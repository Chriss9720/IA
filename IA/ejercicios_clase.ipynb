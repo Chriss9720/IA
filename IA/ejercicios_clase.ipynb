{
 "cells": [
  {
   "cell_type": "markdown",
   "metadata": {},
   "source": [
    "$\\textbf{Ejercicio 1}$\n",
    "\n",
    "A + B - X = C\n",
    "\n",
    "A + B - C = X"
   ]
  },
  {
   "cell_type": "code",
   "execution_count": null,
   "metadata": {},
   "outputs": [],
   "source": [
    "import numpy as np\n",
    "\n",
    "A = np.array([[5, 4], [3, 8]])\n",
    "B = np.array([[6, 5], [2, 3]])\n",
    "C = np.array([[5, 6], [3, 5]])\n",
    "\n",
    "X = A + B - C\n",
    "\n",
    "print(A, sep=\"\\n\")\n",
    "print(\"+\")\n",
    "print(B, sep=\"\\n\")\n",
    "print(\"-\")\n",
    "print(C, sep=\"\\n\")\n",
    "print(\"=\")\n",
    "print(X, sep=\"\\n\")\n",
    "\n",
    "print(A + B - X == C)\n",
    "\n"
   ]
  },
  {
   "cell_type": "markdown",
   "metadata": {},
   "source": [
    "$\\textbf{Ejercicio 2}$ \n",
    "\n",
    "AX + B = 3X\n",
    "\n",
    "AX - 3X = -B\n",
    "\n",
    "X(A - 3) = -B\n"
   ]
  },
  {
   "cell_type": "code",
   "execution_count": null,
   "metadata": {},
   "outputs": [],
   "source": [
    "import numpy as np\n",
    "\n",
    "A = np.array([[5, 4], [3, 8]])\n",
    "B = np.array([[4, 0, -2], [1, -3, -1]])\n",
    "\n",
    "identidad = np.eye(2)\n",
    "constante = 3 * identidad\n",
    "\n",
    "A = A - constante\n",
    "B = B * -1\n",
    "\n",
    "inv_A = np.linalg.inv(A)\n",
    "\n",
    "X = inv_A.dot(B)\n",
    "\n",
    "print(X)"
   ]
  },
  {
   "cell_type": "markdown",
   "metadata": {},
   "source": [
    "$\\textbf{Ejercicio 3}$ \n"
   ]
  },
  {
   "cell_type": "code",
   "execution_count": null,
   "metadata": {},
   "outputs": [],
   "source": [
    "import numpy as np\n",
    "\n",
    "A = np.array([[2, 2], [4, 6]])\n",
    "inv_A = np.linalg.inv(A)\n",
    "print(inv_A)"
   ]
  },
  {
   "cell_type": "code",
   "execution_count": null,
   "metadata": {},
   "outputs": [],
   "source": [
    "import numpy as np\n",
    "\n",
    "A = np.array([[1, 1], [0, 0]])\n",
    "B = np.array([[0,0], [2, 0]])\n",
    "\n",
    "Multa = A.dot(B)\n",
    "\n",
    "print(Multa)\n",
    "\n",
    "Multb = B.dot(A)\n",
    "\n",
    "print(Multb)"
   ]
  },
  {
   "cell_type": "markdown",
   "metadata": {},
   "source": [
    "$\\textbf{Ejercicio 4}$ \n",
    "\n",
    "A * C = B\n",
    "\n",
    "\n",
    "Encontrar C"
   ]
  },
  {
   "cell_type": "code",
   "execution_count": null,
   "metadata": {},
   "outputs": [],
   "source": [
    "import numpy as np\n",
    "\n",
    "A = np.array([[1, 3], [2, 5]])\n",
    "B = np.array([[0, 1], [3, 2]])\n",
    "\n",
    "invA = np.linalg.inv(A)\n",
    "C = invA.dot(B)\n",
    "\n",
    "print('C=', C, sep='\\n')"
   ]
  },
  {
   "cell_type": "markdown",
   "metadata": {},
   "source": [
    "Mandar un vector renglon a una funcion y debe de regresar el promedio"
   ]
  },
  {
   "cell_type": "code",
   "execution_count": null,
   "metadata": {},
   "outputs": [],
   "source": [
    "import numpy as np\n",
    "\n",
    "def getPromedio(vector):\n",
    "    return np.mean(vector)\n",
    "\n",
    "vector = np.array([[1,2,3,4,5,6,7,8,9]])\n",
    "\n",
    "promedio = getPromedio(vector)\n",
    "\n",
    "print(f\"El promedio es: {promedio}\")"
   ]
  },
  {
   "cell_type": "markdown",
   "metadata": {},
   "source": [
    "$\\textbf{Ejercicio 5}$\n",
    "\n",
    "funcion getPromedioHorizontal, recibe un arreglo y regrese un vector columna con los promedio de cada renglon"
   ]
  },
  {
   "cell_type": "code",
   "execution_count": 41,
   "metadata": {},
   "outputs": [
    {
     "name": "stdout",
     "output_type": "stream",
     "text": [
      "3.5\n"
     ]
    }
   ],
   "source": [
    "import numpy as np\n",
    "\n",
    "def getPromedioHorizontal(array):\n",
    "    return np.mean(array, axis=1)\n",
    "\n",
    "vector = np.array([[1,2], [3,4], [5,6]])\n",
    "\n",
    "prom = getPromedioHorizontal(vector)\n",
    "\n",
    "print(prom)"
   ]
  },
  {
   "cell_type": "markdown",
   "metadata": {},
   "source": [
    "$\\textbf{Ejercicio 6}$ \n",
    "\n",
    "funcion getPromedioHorizontal, recibe un arreglo y regrese un vector columna con los promedio de cada columna"
   ]
  },
  {
   "cell_type": "code",
   "execution_count": 42,
   "metadata": {},
   "outputs": [
    {
     "name": "stdout",
     "output_type": "stream",
     "text": [
      "[3. 4.]\n"
     ]
    }
   ],
   "source": [
    "import numpy as np\n",
    "\n",
    "def getPromedioHorizontal(array):\n",
    "    return np.mean(array, axis=0)\n",
    "\n",
    "vector = np.array([[1,2], [3,4], [5,6]])\n",
    "\n",
    "prom = getPromedioHorizontal(vector)\n",
    "\n",
    "print(prom)"
   ]
  },
  {
   "cell_type": "markdown",
   "metadata": {},
   "source": [
    "$\\textbf{Ejercicio 7}$\n",
    "\n",
    "Crear una funcion getMCD, recibe un vector columna de 2 numeros y regresa el maximo comun divisor de ambos.\n",
    "\n",
    "El algoritmo de Euclides se basa en el hecho de que si A es mayor que B, entonces el maximo comun divisor de A y B, es el mismo que (A-B) y B.\n",
    "\n",
    "Si A y B son iguales, entonces ese es su valor de MCD."
   ]
  },
  {
   "cell_type": "code",
   "execution_count": 58,
   "metadata": {},
   "outputs": [
    {
     "name": "stdout",
     "output_type": "stream",
     "text": [
      "[8]\n"
     ]
    }
   ],
   "source": [
    "import numpy as np\n",
    "\n",
    "def getMCD(A):\n",
    "    a = A[0]\n",
    "    b = A[1]\n",
    "    while (a != b):\n",
    "        if (a > b):\n",
    "            a -= b\n",
    "        else:\n",
    "            b -= a\n",
    "    return a\n",
    "\n",
    "\n",
    "A = np.array([[24], [32]])\n",
    "\n",
    "mcd = getMCD(A)\n",
    "\n",
    "print(mcd)"
   ]
  }
 ],
 "metadata": {
  "kernelspec": {
   "display_name": "Python 3.9.13 64-bit",
   "language": "python",
   "name": "python3"
  },
  "language_info": {
   "codemirror_mode": {
    "name": "ipython",
    "version": 3
   },
   "file_extension": ".py",
   "mimetype": "text/x-python",
   "name": "python",
   "nbconvert_exporter": "python",
   "pygments_lexer": "ipython3",
   "version": "3.9.13"
  },
  "orig_nbformat": 4,
  "vscode": {
   "interpreter": {
    "hash": "700f4e983609b4a309d8cdb24642ead9ed43dcba28b2f06dc1758fd6fadf91c9"
   }
  }
 },
 "nbformat": 4,
 "nbformat_minor": 2
}
