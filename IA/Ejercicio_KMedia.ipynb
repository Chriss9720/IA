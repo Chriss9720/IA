{
 "cells": [
  {
   "cell_type": "markdown",
   "metadata": {},
   "source": [
    "Hace una funcion que reciba un arreglo de 2 columnas (X,Y); donde cada renglon es una coordenada.\n",
    "\n",
    "Sacar el punto medio de cada coordenada.\n",
    "\n",
    "Distancia euclidiana.\n",
    "\n",
    "Scatter en rojo puntos originales y con azul el centro"
   ]
  },
  {
   "cell_type": "code",
   "execution_count": null,
   "metadata": {},
   "outputs": [],
   "source": [
    "import numpy as np\n",
    "import matplotlib.pylab as plt\n",
    "\n",
    "def promedio(coor):\n",
    "    return np.mean(coor, axis=0)\n",
    "\n",
    "def puntoMedio(coor):\n",
    "    x = coor[:, 0]\n",
    "    y = coor[:, 1]\n",
    "    prom = promedio(coor)\n",
    "    return (x, y, prom)\n",
    "\n",
    "coordenadas = np.array([\n",
    "    [1, 1],\n",
    "    [5, 3]\n",
    "])\n",
    "\n",
    "x, y, pM = puntoMedio(coordenadas)\n",
    "\n",
    "fig, ax = plt.subplots()\n",
    "ax.scatter(x, y, color='red', marker=\"*\")\n",
    "ax.scatter(pM[0], pM[1], color='blue', marker=\"+\")\n",
    "plt.xlabel(\"X\")\n",
    "plt.ylabel(\"Y\")\n",
    "plt.show()"
   ]
  },
  {
   "cell_type": "code",
   "execution_count": 3,
   "metadata": {},
   "outputs": [
    {
     "name": "stdout",
     "output_type": "stream",
     "text": [
      "{45.0: array([0., 0.]), 27.0: array([3., 4.]), 31.0: array([1., 1.]), 29.5: array([1.5, 4. ]), 23.4: array([2., 2.]), 23.5: array([3. , 1.5]), 25.499999999999996: array([3. , 3.7]), 30.099999999999998: array([4.5, 1.8]), 41.400000000000006: array([6., 3.])}\n",
      "23.4\n",
      "[2. 2.]\n"
     ]
    },
    {
     "data": {
      "image/png": "[encoded data removed]",
      "text/plain": [
       "<Figure size 432x288 with 1 Axes>"
      ]
     },
     "metadata": {
      "needs_background": "light"
     },
     "output_type": "display_data"
    }
   ],
   "source": [
    "import numpy as np\n",
    "import matplotlib.pyplot as plt\n",
    "\n",
    "def sacarPuntoCentro(coor):\n",
    "    distancias = {}\n",
    "    minima = None\n",
    "    for index, co in enumerate(coor):\n",
    "        dist = 0\n",
    "        for i, c in enumerate(coor):\n",
    "            if (i != index):\n",
    "                dist += abs(abs(c[0] - co[0]) + abs(c[1] - co[1]))\n",
    "        distancias[dist] = co\n",
    "        if (minima is None):\n",
    "            minima = dist\n",
    "        elif (minima > dist):\n",
    "            minima = dist\n",
    "    return (distancias, minima)\n",
    "\n",
    "A = np.genfromtxt(\"./kmedias-1.csv\")\n",
    "\n",
    "dist, minima = sacarPuntoCentro(A)\n",
    "\n",
    "print(dist)\n",
    "print(minima)\n",
    "print(dist[minima])\n",
    "\n",
    "fig, ax = plt.subplots()\n",
    "\n",
    "plt.scatter(A[:, 0], A[:, 1], color=\"red\")\n",
    "\n",
    "plt.scatter(dist[minima][0], dist[minima][1], color=\"blue\", marker=\"*\")\n",
    "\n",
    "plt.xlabel(\"X\")\n",
    "plt.ylabel(\"Y\")\n",
    "\n",
    "plt.show()"
   ]
  }
 ],
 "metadata": {
  "kernelspec": {
   "display_name": "Python 3.9.13 ('venv': venv)",
   "language": "python",
   "name": "python3"
  },
  "language_info": {
   "codemirror_mode": {
    "name": "ipython",
    "version": 3
   },
   "file_extension": ".py",
   "mimetype": "text/x-python",
   "name": "python",
   "nbconvert_exporter": "python",
   "pygments_lexer": "ipython3",
   "version": "3.9.13"
  },
  "orig_nbformat": 4,
  "vscode": {
   "interpreter": {
    "hash": "f0c57bc076e9217fce7fc7479a9e5a03ae5ebbc762fd5e8e7e34411aa91b3ee6"
   }
  }
 },
 "nbformat": 4,
 "nbformat_minor": 2
}
