{
 "cells": [
  {
   "cell_type": "markdown",
   "metadata": {},
   "source": [
    "## Graficas\n",
    "\n",
    "Hacer una funcion para que reciba una matriz de 2 columnas que tome los valores como X,Y y qye grafique los puntos.\n",
    "\n",
    "Usando matplotlib"
   ]
  },
  {
   "cell_type": "code",
   "execution_count": null,
   "metadata": {},
   "outputs": [],
   "source": [
    "import numpy as np\n",
    "import matplotlib.pyplot as plt\n",
    "\n",
    "def graficar(puntos):\n",
    "    return (puntos[:, 0], puntos[:, 1])\n",
    "    # points_x = []\n",
    "    # points_y = []\n",
    "    # for punto in puntos:\n",
    "    #     points_x.append(punto[0])\n",
    "    #     points_y.append(punto[1])\n",
    "    # return (points_x, points_y)\n",
    "\n",
    "puntos = np.array([[1,1], [2,2], [3,0], [4,0.5]])\n",
    "\n",
    "px, py = graficar(puntos)\n",
    "\n",
    "fig, ax = plt.subplots()\n",
    "\n",
    "ax.scatter(px, py)\n",
    "\n",
    "plt.show()"
   ]
  }
 ],
 "metadata": {
  "kernelspec": {
   "display_name": "Python 3.9.13 ('venv': venv)",
   "language": "python",
   "name": "python3"
  },
  "language_info": {
   "codemirror_mode": {
    "name": "ipython",
    "version": 3
   },
   "file_extension": ".py",
   "mimetype": "text/x-python",
   "name": "python",
   "nbconvert_exporter": "python",
   "pygments_lexer": "ipython3",
   "version": "3.9.13"
  },
  "orig_nbformat": 4,
  "vscode": {
   "interpreter": {
    "hash": "f0c57bc076e9217fce7fc7479a9e5a03ae5ebbc762fd5e8e7e34411aa91b3ee6"
   }
  }
 },
 "nbformat": 4,
 "nbformat_minor": 2
}
