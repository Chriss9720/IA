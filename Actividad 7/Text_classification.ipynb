{
 "cells": [
  {
   "cell_type": "markdown",
   "metadata": {
    "colab_type": "text",
    "id": "Ic4_occAAiAT"
   },
   "source": [
    "##### Copyright 2018 The TensorFlow Authors."
   ]
  },
  {
   "cell_type": "code",
   "execution_count": 4,
   "metadata": {
    "cellView": "form",
    "colab": {},
    "colab_type": "code",
    "id": "ioaprt5q5US7"
   },
   "outputs": [],
   "source": [
    "#@title Licensed under the Apache License, Version 2.0 (the \"License\");\n",
    "# you may not use this file except in compliance with the License.\n",
    "# You may obtain a copy of the License at\n",
    "#\n",
    "# https://www.apache.org/licenses/LICENSE-2.0\n",
    "#\n",
    "# Unless required by applicable law or agreed to in writing, software\n",
    "# distributed under the License is distributed on an \"AS IS\" BASIS,\n",
    "# WITHOUT WARRANTIES OR CONDITIONS OF ANY KIND, either express or implied.\n",
    "# See the License for the specific language governing permissions and\n",
    "# limitations under the License."
   ]
  },
  {
   "cell_type": "code",
   "execution_count": 5,
   "metadata": {
    "cellView": "form",
    "colab": {},
    "colab_type": "code",
    "id": "yCl0eTNH5RS3"
   },
   "outputs": [],
   "source": [
    "#@title MIT License\n",
    "#\n",
    "# Copyright (c) 2017 François Chollet\n",
    "#\n",
    "# Permission is hereby granted, free of charge, to any person obtaining a\n",
    "# copy of this software and associated documentation files (the \"Software\"),\n",
    "# to deal in the Software without restriction, including without limitation\n",
    "# the rights to use, copy, modify, merge, publish, distribute, sublicense,\n",
    "# and/or sell copies of the Software, and to permit persons to whom the\n",
    "# Software is furnished to do so, subject to the following conditions:\n",
    "#\n",
    "# The above copyright notice and this permission notice shall be included in\n",
    "# all copies or substantial portions of the Software.\n",
    "#\n",
    "# THE SOFTWARE IS PROVIDED \"AS IS\", WITHOUT WARRANTY OF ANY KIND, EXPRESS OR\n",
    "# IMPLIED, INCLUDING BUT NOT LIMITED TO THE WARRANTIES OF MERCHANTABILITY,\n",
    "# FITNESS FOR A PARTICULAR PURPOSE AND NONINFRINGEMENT. IN NO EVENT SHALL\n",
    "# THE AUTHORS OR COPYRIGHT HOLDERS BE LIABLE FOR ANY CLAIM, DAMAGES OR OTHER\n",
    "# LIABILITY, WHETHER IN AN ACTION OF CONTRACT, TORT OR OTHERWISE, ARISING\n",
    "# FROM, OUT OF OR IN CONNECTION WITH THE SOFTWARE OR THE USE OR OTHER\n",
    "# DEALINGS IN THE SOFTWARE."
   ]
  },
  {
   "cell_type": "markdown",
   "metadata": {
    "colab_type": "text",
    "id": "ItXfxkxvosLH"
   },
   "source": [
    "# Text classification with movie reviews"
   ]
  },
  {
   "cell_type": "markdown",
   "metadata": {
    "colab_type": "text",
    "id": "hKY4XMc9o8iB"
   },
   "source": [
    "<table class=\"tfo-notebook-buttons\" align=\"left\">\n",
    "  <td>\n",
    "    <a target=\"_blank\" href=\"https://www.tensorflow.org/tutorials/keras/basic_text_classification\"><img src=\"https://www.tensorflow.org/images/tf_logo_32px.png\" />View on TensorFlow.org</a>\n",
    "  </td>\n",
    "  <td>\n",
    "    <a target=\"_blank\" href=\"https://colab.research.google.com/github/tensorflow/docs/blob/r2.0rc/site/en/tutorials/keras/basic_text_classification.ipynb\"><img src=\"https://www.tensorflow.org/images/colab_logo_32px.png\" />Run in Google Colab</a>\n",
    "  </td>\n",
    "  <td>\n",
    "    <a target=\"_blank\" href=\"https://github.com/tensorflow/docs/blob/r2.0rc/site/en/tutorials/keras/basic_text_classification.ipynb\"><img src=\"https://www.tensorflow.org/images/GitHub-Mark-32px.png\" />View source on GitHub</a>\n",
    "  </td>\n",
    "</table>"
   ]
  },
  {
   "cell_type": "markdown",
   "metadata": {
    "colab_type": "text",
    "id": "Eg62Pmz3o83v"
   },
   "source": [
    "En este cuaderno se clasifican las evaluaciones de usuarios a películas como *positivas* o *negativas*. Este es un ejeplo de una clasificación *binaria* o de dos clases, un problema ampliamente aplicable en el aprendizaje automático.\n",
    "\n",
    "Se usará el conjunto de datos de [IMDB](https://www.tensorflow.org/api_docs/python/tf/keras/datasets/imdb) que contiene el texto de 50,000 evaluaciones de películas de la Internet Movie DataBase (IMBD). Este conjunto se divide en 25,000 evaluaciones para el entrenamiento y 25,000 para la prueba. Los conjuntos de entrenamiento y prueba estan *balanceados*, lo que significa que ambos contienen la misma cantidad de evaluaciones positivas y negativas.\n",
    "\n",
    "Este cuaderno usa [tf.keras](https://www.tensorflow.org/guide/keras), una API de alto nivel para entrenar modelos en TensorFlow. Para un tutorial más avanzado en clasificación de texto usando `tf.keras`, ve a [MLCC Text Classification Guide](https://developers.google.com/machine-learning/guides/text-classification/)."
   ]
  },
  {
   "cell_type": "code",
   "execution_count": 6,
   "metadata": {
    "colab": {},
    "colab_type": "code",
    "id": "JL-LtD0CBSZR"
   },
   "outputs": [],
   "source": [
    "# keras.datasets.imdb is broken in 1.13 and 1.14, by np 1.16.3\n",
    "# pip install tf_nightly"
   ]
  },
  {
   "cell_type": "code",
   "execution_count": 7,
   "metadata": {
    "colab": {},
    "colab_type": "code",
    "id": "2ew7HTbPpCJH"
   },
   "outputs": [
    {
     "name": "stdout",
     "output_type": "stream",
     "text": [
      "2.12.0-dev20221031\n"
     ]
    }
   ],
   "source": [
    "from __future__ import absolute_import, division, print_function, unicode_literals\n",
    "\n",
    "import tensorflow as tf\n",
    "from tensorflow import keras\n",
    "\n",
    "import numpy as np\n",
    "\n",
    "print(tf.__version__)"
   ]
  },
  {
   "cell_type": "markdown",
   "metadata": {
    "colab_type": "text",
    "id": "iAsKG535pHep"
   },
   "source": [
    "## Descargar el conjunto de datos IMDB\n",
    "\n",
    "El conjunto de datos IMDB viene incluido con TensorFlow. Ya ha sido preprocesado de tal forma que las evaluaciones (secuencias de palabras) se han convertido a secuencias de enteros, donde cada entero representa una palabra específica en un diccionario.\n",
    "\n",
    "El siguiente código descarga el conjunto de datos IMDB a tu máquina (o usa una copia del caché si ya lo descargaste):"
   ]
  },
  {
   "cell_type": "code",
   "execution_count": 8,
   "metadata": {
    "colab": {},
    "colab_type": "code",
    "id": "zXXx5Oc3pOmN"
   },
   "outputs": [],
   "source": [
    "imdb = keras.datasets.imdb\n",
    "\n",
    "(train_data, train_labels), (test_data, test_labels) = imdb.load_data(num_words=10000)"
   ]
  },
  {
   "cell_type": "markdown",
   "metadata": {
    "colab_type": "text",
    "id": "odr-KlzO-lkL"
   },
   "source": [
    "El argumento `num_words=10000` mantiene las 10,000 palabras más frecuentes que ocurren en el conjunto de datos de entrenamiento. Las palabras raras se descartan para mantener manejabla el tamaño de los datos."
   ]
  },
  {
   "cell_type": "markdown",
   "metadata": {
    "colab_type": "text",
    "id": "l50X3GfjpU4r"
   },
   "source": [
    "## Exploración de los datos\n",
    "\n",
    "Nos tomaremos un momento para entender el formato de los datos. el conjunto de datos esta preprocesado: cada ejemplo en el arreglo de enteros representa a las palabras de la evaluación de las películas. Cada etiqueta es un valor entero ya se de 0 o 1, donde 0 es una evaluación negativa y 1 es una evaluación positiva."
   ]
  },
  {
   "cell_type": "code",
   "execution_count": 9,
   "metadata": {
    "colab": {},
    "colab_type": "code",
    "id": "y8qCnve_-lkO"
   },
   "outputs": [
    {
     "name": "stdout",
     "output_type": "stream",
     "text": [
      "Training entries: 25000, labels: 25000\n"
     ]
    }
   ],
   "source": [
    "print(\"Training entries: {}, labels: {}\".format(len(train_data), len(train_labels)))"
   ]
  },
  {
   "cell_type": "markdown",
   "metadata": {
    "colab_type": "text",
    "id": "RnKvHWW4-lkW"
   },
   "source": [
    "El texto de las evaluaciones se ha convertido a enteros, donde cada entero representa una palabra específica en un diccionario. Así es como se ve la primera evaluación:"
   ]
  },
  {
   "cell_type": "code",
   "execution_count": 10,
   "metadata": {
    "colab": {},
    "colab_type": "code",
    "id": "QtTS4kpEpjbi"
   },
   "outputs": [
    {
     "name": "stdout",
     "output_type": "stream",
     "text": [
      "[1, 14, 22, 16, 43, 530, 973, 1622, 1385, 65, 458, 4468, 66, 3941, 4, 173, 36, 256, 5, 25, 100, 43, 838, 112, 50, 670, 2, 9, 35, 480, 284, 5, 150, 4, 172, 112, 167, 2, 336, 385, 39, 4, 172, 4536, 1111, 17, 546, 38, 13, 447, 4, 192, 50, 16, 6, 147, 2025, 19, 14, 22, 4, 1920, 4613, 469, 4, 22, 71, 87, 12, 16, 43, 530, 38, 76, 15, 13, 1247, 4, 22, 17, 515, 17, 12, 16, 626, 18, 2, 5, 62, 386, 12, 8, 316, 8, 106, 5, 4, 2223, 5244, 16, 480, 66, 3785, 33, 4, 130, 12, 16, 38, 619, 5, 25, 124, 51, 36, 135, 48, 25, 1415, 33, 6, 22, 12, 215, 28, 77, 52, 5, 14, 407, 16, 82, 2, 8, 4, 107, 117, 5952, 15, 256, 4, 2, 7, 3766, 5, 723, 36, 71, 43, 530, 476, 26, 400, 317, 46, 7, 4, 2, 1029, 13, 104, 88, 4, 381, 15, 297, 98, 32, 2071, 56, 26, 141, 6, 194, 7486, 18, 4, 226, 22, 21, 134, 476, 26, 480, 5, 144, 30, 5535, 18, 51, 36, 28, 224, 92, 25, 104, 4, 226, 65, 16, 38, 1334, 88, 12, 16, 283, 5, 16, 4472, 113, 103, 32, 15, 16, 5345, 19, 178, 32]\n"
     ]
    }
   ],
   "source": [
    "print(train_data[0])"
   ]
  },
  {
   "cell_type": "markdown",
   "metadata": {
    "colab_type": "text",
    "id": "hIE4l_72x7DP"
   },
   "source": [
    "Las evaluaciones de las películas pueden tener distinta cantidad de palabras. En el código de abajo se muestra el número de palabras en la primera y segunda evaluación. \n",
    "Ya que las entradas a las redes neuronales deben tener el mismo tamaño, tendremos que resolver esto."
   ]
  },
  {
   "cell_type": "code",
   "execution_count": 11,
   "metadata": {
    "colab": {},
    "colab_type": "code",
    "id": "X-6Ii9Pfx6Nr"
   },
   "outputs": [
    {
     "data": {
      "text/plain": [
       "(218, 189)"
      ]
     },
     "execution_count": 11,
     "metadata": {},
     "output_type": "execute_result"
    }
   ],
   "source": [
    "len(train_data[0]), len(train_data[1])"
   ]
  },
  {
   "cell_type": "markdown",
   "metadata": {
    "colab_type": "text",
    "id": "4wJg2FiYpuoX"
   },
   "source": [
    "### Convertir los enteros de nuevo a palabras\n",
    "\n",
    "Puede ser útil convertir los enteros nuevamente a texto. En el siguiente código creamos una función de ayuda para buscar las palabras en un diccionario que contiene los enteros para mapearlos al texto.\n"
   ]
  },
  {
   "cell_type": "code",
   "execution_count": 12,
   "metadata": {
    "colab": {},
    "colab_type": "code",
    "id": "tr5s_1alpzop"
   },
   "outputs": [
    {
     "name": "stdout",
     "output_type": "stream",
     "text": [
      "Downloading data from https://storage.googleapis.com/tensorflow/tf-keras-datasets/imdb_word_index.json\n",
      "1641221/1641221 [==============================] - 0s 0us/step\n"
     ]
    }
   ],
   "source": [
    "# Un diccionario que mapea las palabras a un índice entero\n",
    "word_index = imdb.get_word_index()\n",
    "\n",
    "# Los primeros índices están reservados\n",
    "word_index = {k:(v+3) for k,v in word_index.items()}\n",
    "word_index[\"<PAD>\"] = 0\n",
    "word_index[\"<START>\"] = 1\n",
    "word_index[\"<UNK>\"] = 2  # unknown\n",
    "word_index[\"<UNUSED>\"] = 3\n",
    "\n",
    "reverse_word_index = dict([(value, key) for (key, value) in word_index.items()])\n",
    "\n",
    "def decode_review(text):\n",
    "    return ' '.join([reverse_word_index.get(i, '?') for i in text])"
   ]
  },
  {
   "cell_type": "markdown",
   "metadata": {
    "colab_type": "text",
    "id": "U3CNRvEZVppl"
   },
   "source": [
    "Ahora podemos usar la función `decode_review` para desplegar el texto para la primera evaluación:"
   ]
  },
  {
   "cell_type": "code",
   "execution_count": 13,
   "metadata": {
    "colab": {},
    "colab_type": "code",
    "id": "s_OqxmH6-lkn"
   },
   "outputs": [
    {
     "data": {
      "text/plain": [
       "\"<START> this film was just brilliant casting location scenery story direction everyone's really suited the part they played and you could just imagine being there robert <UNK> is an amazing actor and now the same being director <UNK> father came from the same scottish island as myself so i loved the fact there was a real connection with this film the witty remarks throughout the film were great it was just brilliant so much that i bought the film as soon as it was released for <UNK> and would recommend it to everyone to watch and the fly fishing was amazing really cried at the end it was so sad and you know what they say if you cry at a film it must have been good and this definitely was also <UNK> to the two little boy's that played the <UNK> of norman and paul they were just brilliant children are often left out of the <UNK> list i think because the stars that play them all grown up are such a big profile for the whole film but these children are amazing and should be praised for what they have done don't you think the whole story was so lovely because it was true and was someone's life after all that was shared with us all\""
      ]
     },
     "execution_count": 13,
     "metadata": {},
     "output_type": "execute_result"
    }
   ],
   "source": [
    "decode_review(train_data[0])"
   ]
  },
  {
   "cell_type": "markdown",
   "metadata": {
    "colab_type": "text",
    "id": "lFP_XKVRp4_S"
   },
   "source": [
    "## Preparar los datos\n",
    "\n",
    "Los arreglos con las evaluaciones que contienen los enteros deben de convertirse a tensores antes de usarse para introducirse a las redes neuronales. Esta conversión se puede hacer de dos formas:\n",
    "\n",
    "* Convertir los arreglos en vectores con 0s y 1s que indican que palabras de un diccionario ocurren en una evaluación, similar a lo que se conoce como one-hot enoding. Por ejemplo, la secuencia [3, 5] se convertería un vector con 10,000 elementos que estaría lleno de ceros, excepto en los índices 3 y 5 que se refiere a las palabras que ocurren. Entonces, esto sería la primera capa de la red neuronal. Esta forma requiere bastante memoria, ya que requiere una matriz de `num_words * num_reviews`.\n",
    "\n",
    "* Alternativamente, podemos hacer padding (o rellenar) los arreglos de forma que todos tengan la misma longitud, después crear un tensor de enteros con una forma `max_length * num_reviews`. Podemos usar una capa embebida capaz de manejar esta forma como la primer capa de la red.\n",
    "\n",
    "En este tutorial, usaremos la segunda forma.\n",
    "\n",
    "\n",
    "Ya que las evaluaciones de las películas deben tener la misma longitud, usaremos la función [pad_sequences](https://keras.io/preprocessing/sequence/#pad_sequences) para estandarizar las longitudes:"
   ]
  },
  {
   "cell_type": "code",
   "execution_count": 14,
   "metadata": {
    "colab": {},
    "colab_type": "code",
    "id": "2jQv-omsHurp"
   },
   "outputs": [],
   "source": [
    "train_data = keras.preprocessing.sequence.pad_sequences(train_data,\n",
    "                                                        value=word_index[\"<PAD>\"],\n",
    "                                                        padding='post',\n",
    "                                                        maxlen=256)\n",
    "\n",
    "test_data = keras.preprocessing.sequence.pad_sequences(test_data,\n",
    "                                                       value=word_index[\"<PAD>\"],\n",
    "                                                       padding='post',\n",
    "                                                       maxlen=256)"
   ]
  },
  {
   "cell_type": "markdown",
   "metadata": {
    "colab_type": "text",
    "id": "VO5MBpyQdipD"
   },
   "source": [
    "Vamos a ver la longitud de los ejemplos ahora:"
   ]
  },
  {
   "cell_type": "code",
   "execution_count": 15,
   "metadata": {
    "colab": {},
    "colab_type": "code",
    "id": "USSSBnkE-lky"
   },
   "outputs": [
    {
     "data": {
      "text/plain": [
       "(256, 256)"
      ]
     },
     "execution_count": 15,
     "metadata": {},
     "output_type": "execute_result"
    }
   ],
   "source": [
    "len(train_data[0]), len(train_data[1])"
   ]
  },
  {
   "cell_type": "markdown",
   "metadata": {
    "colab_type": "text",
    "id": "QJoxZGyfjT5V"
   },
   "source": [
    "E inspeccionar la primera evaluación (ahora rellenada):"
   ]
  },
  {
   "cell_type": "code",
   "execution_count": 16,
   "metadata": {
    "colab": {},
    "colab_type": "code",
    "id": "TG8X9cqi-lk9"
   },
   "outputs": [
    {
     "name": "stdout",
     "output_type": "stream",
     "text": [
      "[   1   14   22   16   43  530  973 1622 1385   65  458 4468   66 3941\n",
      "    4  173   36  256    5   25  100   43  838  112   50  670    2    9\n",
      "   35  480  284    5  150    4  172  112  167    2  336  385   39    4\n",
      "  172 4536 1111   17  546   38   13  447    4  192   50   16    6  147\n",
      " 2025   19   14   22    4 1920 4613  469    4   22   71   87   12   16\n",
      "   43  530   38   76   15   13 1247    4   22   17  515   17   12   16\n",
      "  626   18    2    5   62  386   12    8  316    8  106    5    4 2223\n",
      " 5244   16  480   66 3785   33    4  130   12   16   38  619    5   25\n",
      "  124   51   36  135   48   25 1415   33    6   22   12  215   28   77\n",
      "   52    5   14  407   16   82    2    8    4  107  117 5952   15  256\n",
      "    4    2    7 3766    5  723   36   71   43  530  476   26  400  317\n",
      "   46    7    4    2 1029   13  104   88    4  381   15  297   98   32\n",
      " 2071   56   26  141    6  194 7486   18    4  226   22   21  134  476\n",
      "   26  480    5  144   30 5535   18   51   36   28  224   92   25  104\n",
      "    4  226   65   16   38 1334   88   12   16  283    5   16 4472  113\n",
      "  103   32   15   16 5345   19  178   32    0    0    0    0    0    0\n",
      "    0    0    0    0    0    0    0    0    0    0    0    0    0    0\n",
      "    0    0    0    0    0    0    0    0    0    0    0    0    0    0\n",
      "    0    0    0    0]\n"
     ]
    }
   ],
   "source": [
    "print(train_data[0])"
   ]
  },
  {
   "cell_type": "markdown",
   "metadata": {
    "colab_type": "text",
    "id": "LLC02j2g-llC"
   },
   "source": [
    "## Construir el modelo\n",
    "\n",
    "La red neuronal se crea al apilar capas, lo que requiero dos decisiones de arquitectura principales:\n",
    "\n",
    "* ¿Cuántas capas se usarán en el modelo?\n",
    "* ¿Cuántas *hidden units* (unidades ocultas) se usarán en cada capa?\n",
    "\n",
    "En este ejemplo, los datos de entrada consisten en un arreglo con índices de palabras. Las etiquetas para la predicción son ya sea 0 o 1. Vamos a construir un modelo para este problema:"
   ]
  },
  {
   "cell_type": "code",
   "execution_count": 17,
   "metadata": {
    "colab": {},
    "colab_type": "code",
    "id": "xpKOoWgu-llD"
   },
   "outputs": [
    {
     "name": "stdout",
     "output_type": "stream",
     "text": [
      "Model: \"sequential\"\n",
      "_________________________________________________________________\n",
      " Layer (type)                Output Shape              Param #   \n",
      "=================================================================\n",
      " embedding (Embedding)       (None, None, 16)          160000    \n",
      "                                                                 \n",
      " global_average_pooling1d (G  (None, 16)               0         \n",
      " lobalAveragePooling1D)                                          \n",
      "                                                                 \n",
      " dense (Dense)               (None, 16)                272       \n",
      "                                                                 \n",
      " dense_1 (Dense)             (None, 1)                 17        \n",
      "                                                                 \n",
      "=================================================================\n",
      "Total params: 160,289\n",
      "Trainable params: 160,289\n",
      "Non-trainable params: 0\n",
      "_________________________________________________________________\n"
     ]
    }
   ],
   "source": [
    "# la forma de la entrada es el contador del vocabulario usado para las evaluaciones de las pelícuas (10,000 palabras)\n",
    "vocab_size = 10000\n",
    "\n",
    "model = keras.Sequential()\n",
    "model.add(keras.layers.Embedding(vocab_size, 16))\n",
    "model.add(keras.layers.GlobalAveragePooling1D())\n",
    "model.add(keras.layers.Dense(16, activation=tf.nn.relu))\n",
    "model.add(keras.layers.Dense(1, activation=tf.nn.sigmoid))\n",
    "\n",
    "model.summary()"
   ]
  },
  {
   "cell_type": "markdown",
   "metadata": {
    "colab_type": "text",
    "id": "6PbKQ6mucuKL"
   },
   "source": [
    "Las capas estan apiladas de forma secuencial para construir al clasificador:\n",
    "\n",
    "1. La primera capa es una capa `Embebida`. Esta capa toma el vocabulario de enteros codificados y busca el vector embebido para cada indice de palabra. Estos datos se aprende conforme el modelo se entrena. Los vector agregan una dimensión al arreglo de salida. La dimensión resultante es:>\n",
    "\n",
    "1. The layers are stacked sequentially to build the classifier:`(batch, sequence, embedding)`.\n",
    "2. A una capa llamada `GlobalAveragePooling1D`  regresa un vector de salida con un tamaño fijo para caad ejemplo, promediando sobre la dimensión de la secuencia. Esto permite al modelo la capacidad de manipular la longitud de la variable de entrada, de la manera más fácil posible.\n",
    "3. Este vector de tamaño fijo se conduce a través de una capa completamente conectada (`Dense`) con 16 unidades escondidas.\n",
    "4. La última capa es una capa densamiente conectada con solo un nodo de salida. Por medio de la función de activación `sigmoid`, este valor fluctúa entre 0 y 1, representando una probabilidad o nivel de confianza."
   ]
  },
  {
   "cell_type": "markdown",
   "metadata": {
    "colab_type": "text",
    "id": "0XMwnDOp-llH"
   },
   "source": [
    "### Unidades ocultas\n",
    "\n",
    "El modelo tiene dos capas intermedias \"ocultas\", entre las capas de entrada y de salida. el número de salidas (unidades, nodos, o neuronas) es la dimensión del espacio de representación para cada capa. En otras palabras, la cantidad de libertad de la red esta permitida cuando se aprende una representación interna.\n",
    "\n",
    "Si un modelo tiene más unidades ocultas (un espacio de representación de dimensión mas alta), u otro con mas capas. entonces la red puede aprender representaciones más complejas. Sin emabrgo, esto provoca que la red requiere más recursos computacionales y podría llegar a aprender patrones no deseados que mejoran el desempeño en los datos de entrenamiento pero no en los datos de prueba, a esto se le conoce como *overfitting* y se verá mas adelante."
   ]
  },
  {
   "cell_type": "markdown",
   "metadata": {
    "colab_type": "text",
    "id": "L4EqVWg4-llM"
   },
   "source": [
    "### Optimizador y función de pérdida\n",
    "\n",
    "Un modelo necesita una función de pérdida y un optimizador para el entrenamiento. Ya que es un problema de clasificación binaria, y el modelo entrega una probabilidad como salida (una capa con un solo nodo con una función de activación sigmoide(, usaremos la función de pérdida `binary_crossentropy`.\n",
    "\n",
    "Este no es la única decisión respecto a la función de pérdida, se puede, por ejemplo, escoger `mean_squared_error`. Pero, generalmente la `binary_crossentropy` es mejor para tratar con probabilidades, ya que mide la \"distancia\"entre las distribuciones de probabilidad, o en nuestro caso, entre la distribución de nuestro \"ground-truth\" y las predicciones.\n",
    "\n",
    "Ahora, configuramos el modelo para usar un optimizador y una función de pérdida:"
   ]
  },
  {
   "cell_type": "code",
   "execution_count": 18,
   "metadata": {
    "colab": {},
    "colab_type": "code",
    "id": "Mr0GP-cQ-llN"
   },
   "outputs": [],
   "source": [
    "model.compile(optimizer='adam',\n",
    "              loss='binary_crossentropy',\n",
    "              metrics=['acc'])"
   ]
  },
  {
   "cell_type": "markdown",
   "metadata": {
    "colab_type": "text",
    "id": "hCWYwkug-llQ"
   },
   "source": [
    "## Creación de un conjunto de validación\n",
    "\n",
    "Cuando entrenamos, queremos checar la exactitud del modelo en datos que no ha visto nunca. Creamos un *conjunto de validación* al separar 10,000 ejemplos del conjunto de datos de entrenamiento original. (Porqué no solo usar el conjunto de prueba de una vez? Nuestra meta es desarrollar y ajustar nuestro modelos usando únicamente datos de entrenamiento, y después usar datos de prueba solo una vez para evaluar nuestra exactitud)\n"
   ]
  },
  {
   "cell_type": "code",
   "execution_count": 19,
   "metadata": {
    "colab": {},
    "colab_type": "code",
    "id": "-NpcXY9--llS"
   },
   "outputs": [],
   "source": [
    "x_val = train_data[:10000]\n",
    "partial_x_train = train_data[10000:]\n",
    "\n",
    "y_val = train_labels[:10000]\n",
    "partial_y_train = train_labels[10000:]"
   ]
  },
  {
   "cell_type": "markdown",
   "metadata": {
    "colab_type": "text",
    "id": "35jv_fzP-llU"
   },
   "source": [
    "## Entrenamiento del modelo\n",
    "\n",
    "Entrar el modelo por 40 époas en mini-lotes de 512 ejemplos. Esto es, 40 iteraciones sobre todas las muestras de tensores `x_train` y `y_train`. Mientras se entrena, se monitorea la pérdida y exactitud en las 10,000 muestras del conjunto de validación."
   ]
  },
  {
   "cell_type": "code",
   "execution_count": 20,
   "metadata": {
    "colab": {},
    "colab_type": "code",
    "id": "tXSGrjWZ-llW"
   },
   "outputs": [
    {
     "name": "stdout",
     "output_type": "stream",
     "text": [
      "Epoch 1/40\n",
      "30/30 [==============================] - 2s 52ms/step - loss: 0.6920 - acc: 0.6078 - val_loss: 0.6903 - val_acc: 0.7282\n",
      "Epoch 2/40\n",
      "30/30 [==============================] - 1s 31ms/step - loss: 0.6865 - acc: 0.6955 - val_loss: 0.6817 - val_acc: 0.7467\n",
      "Epoch 3/40\n",
      "30/30 [==============================] - 1s 32ms/step - loss: 0.6734 - acc: 0.7581 - val_loss: 0.6653 - val_acc: 0.7611\n",
      "Epoch 4/40\n",
      "30/30 [==============================] - 1s 33ms/step - loss: 0.6502 - acc: 0.7751 - val_loss: 0.6383 - val_acc: 0.7675\n",
      "Epoch 5/40\n",
      "30/30 [==============================] - 1s 23ms/step - loss: 0.6149 - acc: 0.7932 - val_loss: 0.6013 - val_acc: 0.7842\n",
      "Epoch 6/40\n",
      "30/30 [==============================] - 1s 23ms/step - loss: 0.5699 - acc: 0.8133 - val_loss: 0.5573 - val_acc: 0.8035\n",
      "Epoch 7/40\n",
      "30/30 [==============================] - 1s 23ms/step - loss: 0.5195 - acc: 0.8299 - val_loss: 0.5103 - val_acc: 0.8194\n",
      "Epoch 8/40\n",
      "30/30 [==============================] - 1s 25ms/step - loss: 0.4686 - acc: 0.8492 - val_loss: 0.4678 - val_acc: 0.8337\n",
      "Epoch 9/40\n",
      "30/30 [==============================] - 1s 23ms/step - loss: 0.4230 - acc: 0.8626 - val_loss: 0.4292 - val_acc: 0.8458\n",
      "Epoch 10/40\n",
      "30/30 [==============================] - 1s 23ms/step - loss: 0.3841 - acc: 0.8741 - val_loss: 0.3991 - val_acc: 0.8537\n",
      "Epoch 11/40\n",
      "30/30 [==============================] - 1s 23ms/step - loss: 0.3516 - acc: 0.8833 - val_loss: 0.3754 - val_acc: 0.8592\n",
      "Epoch 12/40\n",
      "30/30 [==============================] - 1s 23ms/step - loss: 0.3248 - acc: 0.8906 - val_loss: 0.3570 - val_acc: 0.8657\n",
      "Epoch 13/40\n",
      "30/30 [==============================] - 1s 23ms/step - loss: 0.3021 - acc: 0.8976 - val_loss: 0.3431 - val_acc: 0.8693\n",
      "Epoch 14/40\n",
      "30/30 [==============================] - 1s 23ms/step - loss: 0.2831 - acc: 0.9022 - val_loss: 0.3302 - val_acc: 0.8721\n",
      "Epoch 15/40\n",
      "30/30 [==============================] - 1s 25ms/step - loss: 0.2663 - acc: 0.9076 - val_loss: 0.3200 - val_acc: 0.8756\n",
      "Epoch 16/40\n",
      "30/30 [==============================] - 1s 23ms/step - loss: 0.2511 - acc: 0.9127 - val_loss: 0.3121 - val_acc: 0.8794\n",
      "Epoch 17/40\n",
      "30/30 [==============================] - 1s 23ms/step - loss: 0.2381 - acc: 0.9178 - val_loss: 0.3059 - val_acc: 0.8807\n",
      "Epoch 18/40\n",
      "30/30 [==============================] - 1s 23ms/step - loss: 0.2255 - acc: 0.9222 - val_loss: 0.3006 - val_acc: 0.8806\n",
      "Epoch 19/40\n",
      "30/30 [==============================] - 1s 23ms/step - loss: 0.2145 - acc: 0.9271 - val_loss: 0.2963 - val_acc: 0.8833\n",
      "Epoch 20/40\n",
      "30/30 [==============================] - 1s 23ms/step - loss: 0.2042 - acc: 0.9303 - val_loss: 0.2937 - val_acc: 0.8829\n",
      "Epoch 21/40\n",
      "30/30 [==============================] - 1s 22ms/step - loss: 0.1948 - acc: 0.9338 - val_loss: 0.2902 - val_acc: 0.8836\n",
      "Epoch 22/40\n",
      "30/30 [==============================] - 1s 22ms/step - loss: 0.1859 - acc: 0.9373 - val_loss: 0.2918 - val_acc: 0.8816\n",
      "Epoch 23/40\n",
      "30/30 [==============================] - 1s 22ms/step - loss: 0.1786 - acc: 0.9399 - val_loss: 0.2870 - val_acc: 0.8845\n",
      "Epoch 24/40\n",
      "30/30 [==============================] - 1s 22ms/step - loss: 0.1697 - acc: 0.9460 - val_loss: 0.2864 - val_acc: 0.8848\n",
      "Epoch 25/40\n",
      "30/30 [==============================] - 1s 23ms/step - loss: 0.1628 - acc: 0.9488 - val_loss: 0.2874 - val_acc: 0.8836\n",
      "Epoch 26/40\n",
      "30/30 [==============================] - 1s 22ms/step - loss: 0.1556 - acc: 0.9521 - val_loss: 0.2858 - val_acc: 0.8851\n",
      "Epoch 27/40\n",
      "30/30 [==============================] - 1s 23ms/step - loss: 0.1490 - acc: 0.9542 - val_loss: 0.2861 - val_acc: 0.8854\n",
      "Epoch 28/40\n",
      "30/30 [==============================] - 1s 23ms/step - loss: 0.1432 - acc: 0.9564 - val_loss: 0.2874 - val_acc: 0.8851\n",
      "Epoch 29/40\n",
      "30/30 [==============================] - 1s 22ms/step - loss: 0.1371 - acc: 0.9587 - val_loss: 0.2881 - val_acc: 0.8857\n",
      "Epoch 30/40\n",
      "30/30 [==============================] - 1s 23ms/step - loss: 0.1312 - acc: 0.9618 - val_loss: 0.2894 - val_acc: 0.8860\n",
      "Epoch 31/40\n",
      "30/30 [==============================] - 1s 22ms/step - loss: 0.1261 - acc: 0.9646 - val_loss: 0.2915 - val_acc: 0.8863\n",
      "Epoch 32/40\n",
      "30/30 [==============================] - 1s 23ms/step - loss: 0.1209 - acc: 0.9662 - val_loss: 0.2937 - val_acc: 0.8860\n",
      "Epoch 33/40\n",
      "30/30 [==============================] - 1s 26ms/step - loss: 0.1163 - acc: 0.9677 - val_loss: 0.2958 - val_acc: 0.8850\n",
      "Epoch 34/40\n",
      "30/30 [==============================] - 1s 26ms/step - loss: 0.1117 - acc: 0.9683 - val_loss: 0.2984 - val_acc: 0.8850\n",
      "Epoch 35/40\n",
      "30/30 [==============================] - 1s 23ms/step - loss: 0.1073 - acc: 0.9707 - val_loss: 0.3008 - val_acc: 0.8838\n",
      "Epoch 36/40\n",
      "30/30 [==============================] - 1s 23ms/step - loss: 0.1027 - acc: 0.9721 - val_loss: 0.3036 - val_acc: 0.8832\n",
      "Epoch 37/40\n",
      "30/30 [==============================] - 1s 23ms/step - loss: 0.0990 - acc: 0.9733 - val_loss: 0.3072 - val_acc: 0.8828\n",
      "Epoch 38/40\n",
      "30/30 [==============================] - 1s 23ms/step - loss: 0.0951 - acc: 0.9743 - val_loss: 0.3111 - val_acc: 0.8816\n",
      "Epoch 39/40\n",
      "30/30 [==============================] - 1s 24ms/step - loss: 0.0913 - acc: 0.9759 - val_loss: 0.3134 - val_acc: 0.8818\n",
      "Epoch 40/40\n",
      "30/30 [==============================] - 1s 23ms/step - loss: 0.0873 - acc: 0.9777 - val_loss: 0.3167 - val_acc: 0.8826\n"
     ]
    }
   ],
   "source": [
    "history = model.fit(partial_x_train,\n",
    "                    partial_y_train,\n",
    "                    epochs=40,\n",
    "                    batch_size=512,\n",
    "                    validation_data=(x_val, y_val),\n",
    "                    verbose=1)"
   ]
  },
  {
   "cell_type": "markdown",
   "metadata": {
    "colab_type": "text",
    "id": "9EEGuDVuzb5r"
   },
   "source": [
    "## Evaluar el modelo\n",
    "\n",
    "Veamos como se desempeña el modelo. Se regresan dos valores. La pérdida (un número que representa nuestro error, valores más bajos son mejores), y exactitud."
   ]
  },
  {
   "cell_type": "code",
   "execution_count": 21,
   "metadata": {
    "colab": {},
    "colab_type": "code",
    "id": "zOMKywn4zReN"
   },
   "outputs": [
    {
     "name": "stdout",
     "output_type": "stream",
     "text": [
      "782/782 [==============================] - 1s 2ms/step - loss: 0.3373 - acc: 0.8724\n",
      "[0.3372874855995178, 0.872439980506897]\n"
     ]
    }
   ],
   "source": [
    "results = model.evaluate(test_data, test_labels)\n",
    "\n",
    "print(results)"
   ]
  },
  {
   "cell_type": "markdown",
   "metadata": {
    "colab_type": "text",
    "id": "z1iEXVTR0Z2t"
   },
   "source": [
    "Esta propuesta, que es algo ingenua, logra una exactitud de 87%. Con propuestas de arquitecturas más avanzadas, el modelo puede incrementar a cerca de 95%."
   ]
  },
  {
   "cell_type": "markdown",
   "metadata": {
    "colab_type": "text",
    "id": "5KggXVeL-llZ"
   },
   "source": [
    "## Crear un gráfica de exactitud y pérdida a través del tiempo\n",
    "\n",
    "`model.fit()` regresa un objeto `History` que contiene un diccionario con todo lo que sucedió durante el entrenamiento:"
   ]
  },
  {
   "cell_type": "code",
   "execution_count": 22,
   "metadata": {
    "colab": {},
    "colab_type": "code",
    "id": "VcvSXvhp-llb"
   },
   "outputs": [
    {
     "data": {
      "text/plain": [
       "dict_keys(['loss', 'acc', 'val_loss', 'val_acc'])"
      ]
     },
     "execution_count": 22,
     "metadata": {},
     "output_type": "execute_result"
    }
   ],
   "source": [
    "history_dict = history.history\n",
    "history_dict.keys()"
   ]
  },
  {
   "cell_type": "markdown",
   "metadata": {
    "colab_type": "text",
    "id": "nRKsqL40-lle"
   },
   "source": [
    "Hay cuantro entradas: una para cada medida monitoreada durante el entrenamiento y validación. Esamos estos valores para graficar y comparar la pérdida y exactitud en el entrenamiento y validación:"
   ]
  },
  {
   "cell_type": "code",
   "execution_count": 23,
   "metadata": {
    "colab": {},
    "colab_type": "code",
    "id": "nGoYf2Js-lle"
   },
   "outputs": [
    {
     "data": {
      "image/png": "[encoded data removed]",
      "text/plain": [
       "<Figure size 432x288 with 1 Axes>"
      ]
     },
     "metadata": {
      "needs_background": "light"
     },
     "output_type": "display_data"
    }
   ],
   "source": [
    "import matplotlib.pyplot as plt\n",
    "\n",
    "acc = history_dict['acc']\n",
    "val_acc = history_dict['val_acc']\n",
    "loss = history_dict['loss']\n",
    "val_loss = history_dict['val_loss']\n",
    "\n",
    "epochs = range(1, len(acc) + 1)\n",
    "\n",
    "# \"bo\" is for \"blue dot\"\n",
    "plt.plot(epochs, loss, 'bo', label='Training loss')\n",
    "# b is for \"solid blue line\"\n",
    "plt.plot(epochs, val_loss, 'b', label='Validation loss')\n",
    "plt.title('Training and validation loss')\n",
    "plt.xlabel('Epochs')\n",
    "plt.ylabel('Loss')\n",
    "plt.legend()\n",
    "\n",
    "plt.show()"
   ]
  },
  {
   "cell_type": "code",
   "execution_count": 24,
   "metadata": {
    "colab": {},
    "colab_type": "code",
    "id": "6hXx-xOv-llh"
   },
   "outputs": [
    {
     "data": {
      "image/png": "[encoded data removed]",
      "text/plain": [
       "<Figure size 432x288 with 1 Axes>"
      ]
     },
     "metadata": {
      "needs_background": "light"
     },
     "output_type": "display_data"
    }
   ],
   "source": [
    "plt.clf()   # clear figure\n",
    "\n",
    "plt.plot(epochs, acc, 'bo', label='Training acc')\n",
    "plt.plot(epochs, val_acc, 'b', label='Validation acc')\n",
    "plt.title('Training and validation accuracy')\n",
    "plt.xlabel('Epochs')\n",
    "plt.ylabel('Accuracy')\n",
    "plt.legend()\n",
    "\n",
    "plt.show()"
   ]
  },
  {
   "cell_type": "markdown",
   "metadata": {
    "colab_type": "text",
    "id": "oFEmZ5zq-llk"
   },
   "source": [
    "En esta gráfica, los puntos representan la pérdida y la exactitud en el entrenamiento mientras que la linea sólida representa la pérdida y exactitud en la validación.\n",
    "\n",
    "Nota que la pérdida *disminuye* en cada época durante el entrenamiento y la exactitud *incremementa* con cada época. Esto es esperado la que cuando se usa el algoritmo de optimización del descenso del grandiente se debe minimizar la cantidad deseada sobre cada iteración.\n",
    "\n",
    "Esto no es el caso para la périda y la exactitud en la validación, ya que se ven que llegan a un pico en las 20 épocas. Este es un ejemplo de *overfitting*: el modelo funciona mejor en los datos de entremaiento que en datos que no ha visto nunca. Después de este punto, el modelo sobre-optimiza y encuentra representaciones *específicas* para los datos de entrenamiento que no *generalizan* a los datos de prueba.\n",
    "\n",
    "Para este caso particular, podemos prevenir el *overfitting* al parar el entrenamiento después de las 20 épocas.\n",
    "\n",
    "## Predecir una evaluación"
   ]
  },
  {
   "cell_type": "code",
   "execution_count": 25,
   "metadata": {},
   "outputs": [
    {
     "name": "stdout",
     "output_type": "stream",
     "text": [
      "1/1 [==============================] - 0s 97ms/step\n",
      "Probability:  [[0.9989969]]\n",
      "Label predicted:  1\n",
      "Evaluación:\n"
     ]
    },
    {
     "data": {
      "text/plain": [
       "\"a lot of patience because it focuses on mood and character development the plot is very simple and many of the scenes take place on the same set in frances <UNK> the sandy dennis character apartment but the film builds to a disturbing climax br br the characters create an atmosphere <UNK> with sexual tension and psychological <UNK> it's very interesting that robert altman directed this considering the style and structure of his other films still the trademark altman audio style is evident here and there i think what really makes this film work is the brilliant performance by sandy dennis it's definitely one of her darker characters but she plays it so perfectly and convincingly that it's scary michael burns does a good job as the mute young man regular altman player michael murphy has a small part the <UNK> moody set fits the content of the story very well in short this movie is a powerful study of loneliness sexual <UNK> and desperation be patient <UNK> up the atmosphere and pay attention to the wonderfully written script br br i praise robert altman this is one of his many films that deals with unconventional fascinating subject matter this film is disturbing but it's sincere and it's sure to <UNK> a strong emotional response from the viewer if you want to see an unusual film some might even say bizarre this is worth the time br br unfortunately it's very difficult to find in video stores you may have to buy it off the internet\""
      ]
     },
     "execution_count": 25,
     "metadata": {},
     "output_type": "execute_result"
    }
   ],
   "source": [
    "results = model.predict(test_data[[1]])\n",
    "print(\"Probability: \", results)\n",
    "print(\"Label predicted: \",test_labels[1])\n",
    "print(\"Evaluación:\")\n",
    "decode_review(test_data[1])"
   ]
  },
  {
   "cell_type": "markdown",
   "metadata": {},
   "source": [
    "Mostrar palabras del diccionario"
   ]
  },
  {
   "cell_type": "code",
   "execution_count": 26,
   "metadata": {},
   "outputs": [
    {
     "name": "stdout",
     "output_type": "stream",
     "text": [
      "['fawn', 'tsukino', 'nunnery', 'sonja', 'vani', 'woods', 'spiders', 'hanging', 'woody', 'trawling']\n"
     ]
    }
   ],
   "source": [
    "print(list(word_index.keys())[0:10])  "
   ]
  },
  {
   "cell_type": "code",
   "execution_count": null,
   "metadata": {},
   "outputs": [],
   "source": []
  }
 ],
 "metadata": {
  "colab": {
   "collapsed_sections": [],
   "name": "basic-text-classification.ipynb",
   "private_outputs": true,
   "provenance": [],
   "toc_visible": true,
   "version": "0.3.2"
  },
  "kernelspec": {
   "display_name": "Python 3.9.13 ('venv': venv)",
   "language": "python",
   "name": "python3"
  },
  "language_info": {
   "codemirror_mode": {
    "name": "ipython",
    "version": 3
   },
   "file_extension": ".py",
   "mimetype": "text/x-python",
   "name": "python",
   "nbconvert_exporter": "python",
   "pygments_lexer": "ipython3",
   "version": "3.9.13"
  },
  "vscode": {
   "interpreter": {
    "hash": "f0c57bc076e9217fce7fc7479a9e5a03ae5ebbc762fd5e8e7e34411aa91b3ee6"
   }
  }
 },
 "nbformat": 4,
 "nbformat_minor": 1
}
