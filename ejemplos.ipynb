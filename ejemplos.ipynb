{
 "cells": [
  {
   "cell_type": "markdown",
   "id": "65ea54fb",
   "metadata": {},
   "source": [
    "$\\textbf{Matriz}$"
   ]
  },
  {
   "cell_type": "code",
   "execution_count": null,
   "id": "1b5dd7ee",
   "metadata": {},
   "outputs": [],
   "source": [
    "import numpy as np\n",
    "\n",
    "A = np.array([[1,2,3], [4,5,6], [7,8,9], [10,11,12]])\n",
    "\n",
    "print('A =', A, sep=\"\\n\", end=\"\\n\\n\")\n",
    "\n",
    "print(f\"Numero de dimensiones = {A.ndim}\")\n",
    "print(f\"Forma de la dimension = {A.shape}\")\n",
    "print(f\"Tamaño {A.size}\")\n",
    "print(f\"Tipo de datos = {A.dtype}\")\n",
    "print(f\"A[:,1:3] = {A[:,1:3]}\")\n",
    "print(f\"A[1:3,:] = {A[1:3,:]}\")"
   ]
  },
  {
   "cell_type": "code",
   "execution_count": null,
   "id": "bb15238b",
   "metadata": {},
   "outputs": [],
   "source": [
    "import numpy as np\n",
    "\n",
    "A = np.array([[1, 2], [3, 4]])\n",
    "B = np.array([[5, 6]])\n",
    "print(\"A = \", A, sep = \"\\n\")\n",
    "print(\"Transpuesta de A = \", A.T, sep = \"\\n\")\n",
    "print(f\"B = \", B, sep = \"\\n\")\n",
    "\n",
    "C = np.concatenate((A, B), axis = 0)\n",
    "print(f\"A concatenada con B en eje 0 = \", C, sep = \"\\n\")\n",
    "\n",
    "C = np.concatenate((A, B.T), axis = 1)\n",
    "print(f\"A concatenada con B en eje 1 = \", C, sep = \"\\n\")\n",
    "\n",
    "C = np.concatenate((A, B), axis = None)\n",
    "print(\"A concatenada con B en ningun eje = \", C, sep = \"\\n\")"
   ]
  },
  {
   "cell_type": "code",
   "execution_count": null,
   "id": "22908264",
   "metadata": {},
   "outputs": [],
   "source": [
    "import numpy as np\n",
    "\n",
    "B = np.zeros([2, 3], int)\n",
    "print('zeros[2, 3] int = ', B, sep='\\n')\n",
    "\n",
    "B = np.zeros([2, 3], float)\n",
    "print('zeros[2, 3] float = ', B, sep='\\n')\n",
    "\n",
    "B = np.ones([2, 3], int)\n",
    "print('ones[2, 3] int = ', B, sep='\\n')\n",
    "\n",
    "B = np.arange(0, 10, 0.5)\n",
    "print('arange[0, 10, 0.5] = ', B, sep='\\n')\n",
    "\n",
    "B = np.linspace(0, 10, 20)\n",
    "print('linspace[0, 10, 20] = ', B, sep='\\n')\n",
    "\n",
    "(X, Y) = np.meshgrid([0, 1, 2], [3, 4, 5, 6])\n",
    "print('X de meshgrid[0, 1, 2], [3, 4, 5, 6] = ', X, sep='\\n')\n",
    "print('Y meshgrid[0, 1, 2], [3, 4, 5, 6] = ', Y, sep='\\n')"
   ]
  },
  {
   "cell_type": "markdown",
   "id": "824e4b54",
   "metadata": {},
   "source": [
    "$\\textbf{Matriz identidad}$"
   ]
  },
  {
   "cell_type": "code",
   "execution_count": null,
   "id": "60610aec",
   "metadata": {},
   "outputs": [],
   "source": [
    "import numpy as np\n",
    "\n",
    "A = np.eye(5)\n",
    "\n",
    "print(A)"
   ]
  },
  {
   "cell_type": "markdown",
   "id": "19e1c6e0",
   "metadata": {},
   "source": [
    "$\\textbf{Matriz Inversa}$"
   ]
  },
  {
   "cell_type": "code",
   "execution_count": null,
   "id": "50179b7b",
   "metadata": {},
   "outputs": [],
   "source": [
    "import numpy as np\n",
    "\n",
    "A = np.array([[3, 4], [2, 16]])\n",
    "print(\"A = \", A, sep=\"\\n\")\n",
    "\n",
    "B = np.linalg.inv(A)\n",
    "print(\"inv(A) = \", B, sep=\"\\n\")\n",
    "\n",
    "print(\"A(inv(A)) = \", A.dot(B), sep=\"\\n\")\n",
    "print(\"inv(A)A = \", B.dot(A), sep=\"\\n\")"
   ]
  },
  {
   "cell_type": "markdown",
   "id": "fe31fc4d",
   "metadata": {},
   "source": [
    "$\\textbf{Determinante}$"
   ]
  },
  {
   "cell_type": "code",
   "execution_count": null,
   "metadata": {},
   "outputs": [],
   "source": [
    "import numpy as np\n",
    "\n",
    "A = np.array([[3, 4], [2, 16]])\n",
    "print(\"A = \", A, sep=\"\\n\")\n",
    "\n",
    "det_A = np.linalg.det(A)\n",
    "print(\"det(A) = \", det_A, sep=\"\\n\")\n",
    "\n",
    "B = np.array([[5, 7], [3, 8]])\n",
    "print(\"B = \", B, sep=\"\\n\")\n",
    "\n",
    "det_B = np.linalg.det(B)\n",
    "print(\"det(B) = \", det_B, sep=\"\\n\")\n",
    "\n",
    "AB = A.dot(B)\n",
    "print(\"AB = \", AB, sep=\"\\n\")\n",
    "\n",
    "det_AB = np.linalg.det(AB)\n",
    "print(\"det(AB) = \", det_AB, sep=\"\\n\")\n",
    "\n",
    "print(\"({0}) ({1}) = {2}\".format(det_A, det_B, det_A*det_B))"
   ]
  },
  {
   "cell_type": "markdown",
   "id": "9be4ca27",
   "metadata": {},
   "source": [
    "$\\textbf{Matriz Regular}$\n",
    "Cuando una columna o renglon es multiplo del otro, no es regular, porque no tiene inversa"
   ]
  },
  {
   "cell_type": "code",
   "execution_count": null,
   "id": "ea531e08",
   "metadata": {},
   "outputs": [],
   "source": [
    "import numpy as np\n",
    "\n",
    "A = np.array([[3, 4, 5], [4, 16, 8], [6, 2, 10]])\n",
    "print(\"A = \", A, sep=\"\\n\")\n",
    "\n",
    "det_A = np.linalg.det(A)\n",
    "print(\"det(A) = \", det_A, sep=\"\\n\")"
   ]
  }
 ],
 "metadata": {
  "kernelspec": {
   "display_name": "Python 3.9.13 64-bit",
   "language": "python",
   "name": "python3"
  },
  "language_info": {
   "codemirror_mode": {
    "name": "ipython",
    "version": 3
   },
   "file_extension": ".py",
   "mimetype": "text/x-python",
   "name": "python",
   "nbconvert_exporter": "python",
   "pygments_lexer": "ipython3",
   "version": "3.9.13"
  },
  "vscode": {
   "interpreter": {
    "hash": "700f4e983609b4a309d8cdb24642ead9ed43dcba28b2f06dc1758fd6fadf91c9"
   }
  }
 },
 "nbformat": 4,
 "nbformat_minor": 5
}
