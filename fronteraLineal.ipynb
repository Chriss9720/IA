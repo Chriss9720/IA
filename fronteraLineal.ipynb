{
 "cells": [
  {
   "cell_type": "code",
   "execution_count": 2,
   "metadata": {},
   "outputs": [
    {
     "name": "stdout",
     "output_type": "stream",
     "text": [
      "X0= [0, 1, 2, 3, 4, 5, 6, 7, 8, 9]\n",
      "X1= [10, 11, 12, 13, 14, 15, 16, 17, 18, 19]\n"
     ]
    },
    {
     "ename": "TypeError",
     "evalue": "list indices must be integers or slices, not tuple",
     "output_type": "error",
     "traceback": [
      "\u001b[1;31m---------------------------------------------------------------------------\u001b[0m",
      "\u001b[1;31mTypeError\u001b[0m                                 Traceback (most recent call last)",
      "\u001b[1;32mc:\\Users\\Gonza\\Documents\\9No\\IA\\fronteraLineal.ipynb Celda 1\u001b[0m in \u001b[0;36m<cell line: 28>\u001b[1;34m()\u001b[0m\n\u001b[0;32m     <a href='vscode-notebook-cell:/c%3A/Users/Gonza/Documents/9No/IA/fronteraLineal.ipynb#W0sZmlsZQ%3D%3D?line=24'>25</a>\u001b[0m X2 \u001b[39m=\u001b[39m np\u001b[39m.\u001b[39mlinspace(minimo, maximo, \u001b[39m100\u001b[39m)\n\u001b[0;32m     <a href='vscode-notebook-cell:/c%3A/Users/Gonza/Documents/9No/IA/fronteraLineal.ipynb#W0sZmlsZQ%3D%3D?line=25'>26</a>\u001b[0m X3 \u001b[39m=\u001b[39m [\u001b[39m3\u001b[39m\u001b[39m-\u001b[39mX2[j] \u001b[39mfor\u001b[39;00m j \u001b[39min\u001b[39;00m \u001b[39mrange\u001b[39m(\u001b[39m100\u001b[39m)]\n\u001b[1;32m---> <a href='vscode-notebook-cell:/c%3A/Users/Gonza/Documents/9No/IA/fronteraLineal.ipynb#W0sZmlsZQ%3D%3D?line=27'>28</a>\u001b[0m plt\u001b[39m.\u001b[39mplot(X3[X2, \u001b[39m0\u001b[39;49m], X3[X2, \u001b[39m1\u001b[39m], \u001b[39m\"\u001b[39m\u001b[39mro\u001b[39m\u001b[39m\"\u001b[39m)\n\u001b[0;32m     <a href='vscode-notebook-cell:/c%3A/Users/Gonza/Documents/9No/IA/fronteraLineal.ipynb#W0sZmlsZQ%3D%3D?line=29'>30</a>\u001b[0m plt\u001b[39m.\u001b[39mxlabel(\u001b[39m\"\u001b[39m\u001b[39m$X_1$\u001b[39m\u001b[39m\"\u001b[39m)\n\u001b[0;32m     <a href='vscode-notebook-cell:/c%3A/Users/Gonza/Documents/9No/IA/fronteraLineal.ipynb#W0sZmlsZQ%3D%3D?line=30'>31</a>\u001b[0m plt\u001b[39m.\u001b[39mylabel(\u001b[39m\"\u001b[39m\u001b[39m$X_2$\u001b[39m\u001b[39m\"\u001b[39m)\n",
      "\u001b[1;31mTypeError\u001b[0m: list indices must be integers or slices, not tuple"
     ]
    },
    {
     "data": {
      "image/png": "[encoded data removed]",
      "text/plain": [
       "<Figure size 432x288 with 1 Axes>"
      ]
     },
     "metadata": {
      "needs_background": "light"
     },
     "output_type": "display_data"
    }
   ],
   "source": [
    "import pandas as pd\n",
    "import numpy as np\n",
    "import matplotlib.pyplot as plt\n",
    "\n",
    "datos = pd.read_csv('./data/fronteraLineal.csv')\n",
    "datos = datos.to_numpy()\n",
    "\n",
    "m,n = datos.shape\n",
    "\n",
    "X = datos[:, 0:n-1]\n",
    "Y = datos[:, n-1:n]\n",
    "\n",
    "X0 = [j for j in range(m) if Y[j]==0]\n",
    "X1 = [j for j in range(m) if Y[j]==1]\n",
    "\n",
    "print(f\"X0= {X0}\")\n",
    "print(f\"X1= {X1}\")\n",
    "\n",
    "plt.plot(X[X0, 0], X[X0, 1], \"bo\")\n",
    "plt.plot(X[X1, 0], X[X1, 1], \"ro\")\n",
    "\n",
    "minimo = np.min(X[:,0])\n",
    "maximo = np.max(X[:,1])\n",
    "\n",
    "X2 = np.linspace(minimo, maximo, 100)\n",
    "X3 = [3-X2[j] for j in range(100)]\n",
    "\n",
    "plt.plot(X3[X2, 0], X3[X2, 1], \"ro\")\n",
    "\n",
    "plt.xlabel(\"$X_1$\")\n",
    "plt.ylabel(\"$X_2$\")\n",
    "plt.grid()\n",
    "plt.show()"
   ]
  }
 ],
 "metadata": {
  "kernelspec": {
   "display_name": "Python 3.9.13 ('venv': venv)",
   "language": "python",
   "name": "python3"
  },
  "language_info": {
   "codemirror_mode": {
    "name": "ipython",
    "version": 3
   },
   "file_extension": ".py",
   "mimetype": "text/x-python",
   "name": "python",
   "nbconvert_exporter": "python",
   "pygments_lexer": "ipython3",
   "version": "3.9.13"
  },
  "orig_nbformat": 4,
  "vscode": {
   "interpreter": {
    "hash": "f0c57bc076e9217fce7fc7479a9e5a03ae5ebbc762fd5e8e7e34411aa91b3ee6"
   }
  }
 },
 "nbformat": 4,
 "nbformat_minor": 2
}
