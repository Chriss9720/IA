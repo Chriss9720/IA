{
 "cells": [
  {
   "cell_type": "code",
   "execution_count": null,
   "metadata": {},
   "outputs": [],
   "source": [
    "import numpy as np\n",
    "import matplotlib.pyplot as plt\n",
    "A = np.array([[1, 868], [1, 830], [1, 787], [1, 755], [1, 725], [1, 675], [1, 640], [1, 610], [1, 535], [1, 485], [1, 390], [1, 360], [1, 285], [1, 240], [1, 200], [1, 160], [1, 110]])\n",
    "Y = np.array([[90], [85], [80], [75], [70], [65], [60], [55], [50], [45], [40], [35], [30], [25], [20], [15], [10]])\n",
    "print('A= ', A, sep='\\n', end='\\n\\n')\n",
    "print('Y= ', Y, sep='\\n', end='\\n\\n')\n",
    "X = np.linalg.inv(A.T.dot(A)).dot(A.T).dot(Y) #Ecuacion normal\n",
    "print('X= ', X, sep='\\n', end='\\n\\n')\n",
    "fig1 = plt.figure()\n",
    "plt.plot(Y, A[:, 1], 'r-')\n",
    "plt.ylabel('salida sensor')\n",
    "plt.xlabel('nivel real')\n",
    "plt.title('Ecuacion Lineal')\n",
    "Salida = A.dot(X)\n",
    "plt.plot(Salida, A[:, 1], 'b-')\n"
   ]
  },
  {
   "cell_type": "code",
   "execution_count": 46,
   "metadata": {},
   "outputs": [
    {
     "name": "stdout",
     "output_type": "stream",
     "text": [
      "[-4.071877732377004, -2.876101135898466, -2.1808802504096008, -0.3844368007434582, 1.6122289333185336, 1.6066718234218769, 3.10278184649421, 5.099447580556209, 2.591111915711217, 2.585554805814553, -1.925003702989109, 0.07166203107289704, -2.436673633772102, -1.9416750326791004, -0.9461207205964293, 0.04943359148623827, 0.04387648158957447]\n",
      "3.907985046680551e-14\n",
      "98.28519651754443\n",
      "2.8907410740454247\n"
     ]
    }
   ],
   "source": [
    "import numpy as np\n",
    "import matplotlib.pyplot as plt\n",
    "A = np.array([[1, 868], [1, 830], [1, 787], [1, 755], [1, 725], [1, 675], [1, 640], [1, 610], [1, 535], [1, 485], [1, 390], [1, 360], [1, 285], [1, 240], [1, 200], [1, 160], [1, 110]])\n",
    "Y = np.array([[90], [85], [80], [75], [70], [65], [60], [55], [50], [45], [40], [35], [30], [25], [20], [15], [10]])\n",
    "\n",
    "X = np.linalg.inv(A.T.dot(A)).dot(A.T).dot(Y) #Ecuacion normal\n",
    "Salida = A.dot(X)\n",
    "\n",
    "errores = []\n",
    "t_e = 0\n",
    "errores_c = []\n",
    "t_e_c = 0\n",
    "total_er = 0\n",
    "for index, value in enumerate(Salida):\n",
    "    errores.append((value[0] - Y[index][0]))\n",
    "    t_e = t_e + errores[-1]\n",
    "    errores_c.append(errores[-1]**2)\n",
    "    t_e_c += errores_c[-1]\n",
    "\n",
    "print(errores)\n",
    "# print(errores_c)\n",
    "\n",
    "print(t_e)\n",
    "print(t_e_c)\n",
    "\n",
    "div = 2 * len(Salida)\n",
    "result = t_e_c / div\n",
    "print(result)"
   ]
  },
  {
   "cell_type": "code",
   "execution_count": 51,
   "metadata": {},
   "outputs": [
    {
     "name": "stdout",
     "output_type": "stream",
     "text": [
      "868\n",
      "830\n",
      "787\n",
      "755\n",
      "725\n",
      "675\n",
      "640\n",
      "610\n",
      "535\n",
      "485\n",
      "390\n",
      "360\n",
      "285\n",
      "240\n",
      "200\n",
      "160\n",
      "110\n"
     ]
    }
   ],
   "source": [
    "import numpy as np\n",
    "import matplotlib.pyplot as plt\n",
    "A = np.array([[1, 868], [1, 830], [1, 787], [1, 755], [1, 725], [1, 675], [1, 640], [1, 610], [1, 535], [1, 485], [1, 390], [1, 360], [1, 285], [1, 240], [1, 200], [1, 160], [1, 110]])\n",
    "\n",
    "for value in A:\n",
    "    print(value[1])"
   ]
  }
 ],
 "metadata": {
  "kernelspec": {
   "display_name": "Python 3.9.13 ('venv': venv)",
   "language": "python",
   "name": "python3"
  },
  "language_info": {
   "codemirror_mode": {
    "name": "ipython",
    "version": 3
   },
   "file_extension": ".py",
   "mimetype": "text/x-python",
   "name": "python",
   "nbconvert_exporter": "python",
   "pygments_lexer": "ipython3",
   "version": "3.9.13"
  },
  "orig_nbformat": 4,
  "vscode": {
   "interpreter": {
    "hash": "f0c57bc076e9217fce7fc7479a9e5a03ae5ebbc762fd5e8e7e34411aa91b3ee6"
   }
  }
 },
 "nbformat": 4,
 "nbformat_minor": 2
}
