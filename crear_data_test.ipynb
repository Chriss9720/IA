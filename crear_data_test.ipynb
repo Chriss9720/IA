{
 "cells": [
  {
   "cell_type": "code",
   "execution_count": 1,
   "metadata": {},
   "outputs": [],
   "source": [
    "import pandas as pd\n",
    "import numpy as np\n",
    "import matplotlib.pyplot as plt\n",
    "\n",
    "#Programa para crear el dato de prueba\n",
    "ancho_X = 20\n",
    "alto_Y = 20\n",
    "tope = 1\n",
    "X = np.ones([ancho_X * alto_Y, 3])\n",
    "for i in range(ancho_X):\n",
    "    for j in range(alto_Y):\n",
    "        X[alto_Y*i+j,0] = i*tope/ancho_X #X1\n",
    "        X[alto_Y*i+j,1] = j*tope/ancho_X #X2\n",
    "        X[alto_Y*i+j,2] = 0.5    #Y\n",
    "df = pd.DataFrame(X)\n",
    "df.to_csv(\"./data/datosPrueba.csv\",index=False)"
   ]
  }
 ],
 "metadata": {
  "kernelspec": {
   "display_name": "Python 3.9.10 ('venv': venv)",
   "language": "python",
   "name": "python3"
  },
  "language_info": {
   "codemirror_mode": {
    "name": "ipython",
    "version": 3
   },
   "file_extension": ".py",
   "mimetype": "text/x-python",
   "name": "python",
   "nbconvert_exporter": "python",
   "pygments_lexer": "ipython3",
   "version": "3.9.10"
  },
  "orig_nbformat": 4,
  "vscode": {
   "interpreter": {
    "hash": "5986db2612bb3eb0d5d8ded52e0e26d25fe8a644ecfcf214532787127487edcd"
   }
  }
 },
 "nbformat": 4,
 "nbformat_minor": 2
}
