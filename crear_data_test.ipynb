{
 "cells": [
  {
   "cell_type": "code",
   "execution_count": null,
   "metadata": {},
   "outputs": [],
   "source": [
    "import pandas as pd\n",
    "import numpy as np\n",
    "import matplotlib.pyplot as plt\n",
    "\n",
    "#Programa para crear el dato de prueba\n",
    "ancho_X = 20\n",
    "alto_Y = 20\n",
    "tope = 3\n",
    "X = np.ones([ancho_X * alto_Y, 3])\n",
    "for i in range(ancho_X):\n",
    "    for j in range(alto_Y):\n",
    "        X[alto_Y*i+j,0] = i*tope/ancho_X #X1\n",
    "        X[alto_Y*i+j,1] = j*tope/ancho_X #X2\n",
    "        X[alto_Y*i+j,2] = 0.5    #Y\n",
    "df = pd.DataFrame(X)\n",
    "df.to_csv(\"./data/datosPrueba.csv\",index=False)"
   ]
  }
 ],
 "metadata": {
  "kernelspec": {
   "display_name": "Python 3.9.13 64-bit",
   "language": "python",
   "name": "python3"
  },
  "language_info": {
   "name": "python",
   "version": "3.9.13"
  },
  "orig_nbformat": 4,
  "vscode": {
   "interpreter": {
    "hash": "700f4e983609b4a309d8cdb24642ead9ed43dcba28b2f06dc1758fd6fadf91c9"
   }
  }
 },
 "nbformat": 4,
 "nbformat_minor": 2
}
