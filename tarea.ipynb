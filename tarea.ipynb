{
 "cells": [
  {
   "cell_type": "code",
   "execution_count": null,
   "metadata": {},
   "outputs": [],
   "source": [
    "import time\n",
    "import pandas as pd\n",
    "import numpy as np\n",
    "import matplotlib.pyplot as plt\n",
    "\n",
    "datos = pd.read_csv(\"./data/tres.csv\")\n",
    "print(\"\\nVista corta de los datos\")\n",
    "print(datos.head())\n",
    "print(\"\\nDescripcion de los datos\")\n",
    "print(datos.describe())\n",
    "print(f\"\\ndatos de pandas: \\n{datos}\")\n",
    "datos = datos.to_numpy()\n",
    "print(f\"\\ndatos de numpy: \\n{datos}\")"
   ]
  },
  {
   "cell_type": "code",
   "execution_count": null,
   "metadata": {},
   "outputs": [],
   "source": [
    "import numpy as np\n",
    "\n",
    "def escalar(x):\n",
    "    xmin = np.min(X, axis=0)\n",
    "    xmax = np.max(X, axis=0)\n",
    "    xmean = np.mean(X, axis=0)\n",
    "    xrango = xmax - xmin\n",
    "    X = (X - xmean) / (xrango)\n",
    "    return (xmean, xrango, X)"
   ]
  }
 ],
 "metadata": {
  "kernelspec": {
   "display_name": "Python 3.9.13 ('venv': venv)",
   "language": "python",
   "name": "python3"
  },
  "language_info": {
   "codemirror_mode": {
    "name": "ipython",
    "version": 3
   },
   "file_extension": ".py",
   "mimetype": "text/x-python",
   "name": "python",
   "nbconvert_exporter": "python",
   "pygments_lexer": "ipython3",
   "version": "3.9.13"
  },
  "orig_nbformat": 4,
  "vscode": {
   "interpreter": {
    "hash": "f0c57bc076e9217fce7fc7479a9e5a03ae5ebbc762fd5e8e7e34411aa91b3ee6"
   }
  }
 },
 "nbformat": 4,
 "nbformat_minor": 2
}
