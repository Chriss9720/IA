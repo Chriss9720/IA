{
 "cells": [
  {
   "cell_type": "markdown",
   "metadata": {},
   "source": [
    "### Neurona"
   ]
  },
  {
   "cell_type": "code",
   "execution_count": 50,
   "metadata": {},
   "outputs": [],
   "source": [
    "import numpy as np\n",
    "import pandas as pd\n",
    "import matplotlib.pyplot as plt\n",
    "\n",
    "class Neurona:\n",
    "\n",
    "    def __init__(self, N):\n",
    "        self.b = 1\n",
    "        self.w = np.zeros([N, 1])\n",
    "        for a in range(N):\n",
    "            self.w[a, 0] = np.random.randn()*0.1\n",
    "\n",
    "    def sigmoide(self, X):\n",
    "        t = self.b + self.w[0, 0] * X[0, 0] + self.w[1, 0] * X[0, 1]\n",
    "        return round(1 / ( 1 + np.exp( -t ) ))\n",
    "\n",
    "    def __str__(self):\n",
    "        return f\"b = {self.b}\\nw=\\n{self.w}\"\n",
    "\n",
    "# X = np.zeros([1, 2])\n",
    "# X[0, 1] = 1\n",
    "\n",
    "# #NOR\n",
    "# n1 = Neurona(2)\n",
    "# n1.b = 10\n",
    "# n1.w[0, 0] = -20\n",
    "# n1.w[1, 0] = -20\n",
    "\n",
    "# #AND\n",
    "# n2 = Neurona(2)\n",
    "# n2.b = -30\n",
    "# n2.w[0, 0] = 60\n",
    "# n2.w[1, 0] = 60\n",
    "\n",
    "# #OR\n",
    "# n3 = Neurona(2)\n",
    "# n3.b = -10\n",
    "# n3.w[0, 0] = 20\n",
    "# n3.w[1, 0] = 20\n",
    "\n",
    "# print(f\"NOR = {n1.sigmoide(X)}\")\n",
    "# print(f\"AND = {n2.sigmoide(X)}\")\n",
    "# print(f\"OR = {n3.sigmoide(X)}\")"
   ]
  },
  {
   "cell_type": "markdown",
   "metadata": {},
   "source": [
    "### Capa"
   ]
  },
  {
   "cell_type": "code",
   "execution_count": 51,
   "metadata": {},
   "outputs": [],
   "source": [
    "class Capa:\n",
    "    # Entradas y neuronas\n",
    "    def __init__(self, N, M):\n",
    "        self.neuronas = []\n",
    "        for i in range(0, M):\n",
    "            self.neuronas.append(Neurona(N))\n",
    "\n",
    "    def forwardPropagation(self, x):\n",
    "        salida = np.zeros([1, len(self.neuronas)])\n",
    "        for a in range(len(self.neuronas)):\n",
    "            s = float(self.neuronas[a].sigmoide(x))\n",
    "            salida[0, a] = s \n",
    "        return salida\n",
    "\n",
    "    def __str__(self):\n",
    "        salida = [str(txt) for txt in self.neuronas]\n",
    "        return \"\\n\".join(salida)\n",
    "\n",
    "capa1 = Capa(2, 2)\n",
    "capa2 = Capa(2, 1)\n",
    "\n",
    "###NOR\n",
    "n1 = capa1.neuronas[0]\n",
    "n1.b = 10\n",
    "n1.w[0, 0] = -20\n",
    "n1.w[1, 0] = -20\n",
    "\n",
    "#AND\n",
    "n2 = capa1.neuronas[1]\n",
    "n2.b = -30\n",
    "n2.w[0, 0] = 20\n",
    "n2.w[1, 0] = 20\n",
    "\n",
    "#OR\n",
    "n3 = capa2.neuronas[0]\n",
    "n3.b = -10\n",
    "n3.w[0, 0] = 20\n",
    "n3.w[1, 0] = 20\n",
    "\n",
    "X = np.zeros([1,2])\n",
    "X[0, 0] = 0\n",
    "X[0, 1] = 1\n",
    "\n",
    "# print(f\"X={X}\")\n",
    "# print(f\"NOR = {n1.sigmoide(X)}\")\n",
    "# print(f\"AND = {n2.sigmoide(X)}\")\n",
    "# print(f\"OR = {n3.sigmoide(X)}\")\n",
    "# C1 = capa1.forwardPropagation(X)\n",
    "# print(f\"Capa1 = {C1}\")\n",
    "# print(f\"Capa2 = {capa2.forwardPropagation(C1)}\")\n",
    "\n"
   ]
  },
  {
   "cell_type": "markdown",
   "metadata": {},
   "source": [
    "### RedNeuronal"
   ]
  },
  {
   "cell_type": "code",
   "execution_count": 52,
   "metadata": {},
   "outputs": [],
   "source": [
    "class RedNeuronal:\n",
    "\n",
    "    def __init__(self, lista):\n",
    "        entradas = lista[0]\n",
    "        self.capas = []\n",
    "        entradas = None\n",
    "        for capa in lista[1:]:\n",
    "            if (not entradas):\n",
    "                entradas = capa\n",
    "            self.capas.append(Capa(entradas, capa))\n",
    "            entradas = capa\n",
    "\n",
    "    def cargarNOR(self):\n",
    "        n1 = self.capas[0].neuronas[0]\n",
    "        n1.b = 10\n",
    "        n1.w[0, 0] = -20\n",
    "        n1.w[1, 0] = -20\n",
    "\n",
    "    def cargarAND(self):\n",
    "        n2 = self.capas[0].neuronas[1]\n",
    "        n2.b = -30\n",
    "        n2.w[0, 0] = 20\n",
    "        n2.w[1, 0] = 20\n",
    "\n",
    "    def cargarOR(self):\n",
    "        n3 = self.capas[1].neuronas[0]\n",
    "        n3.b = -10\n",
    "        n3.w[0, 0] = 20\n",
    "        n3.w[1, 0] = 20\n",
    "\n",
    "    def resolverNOR(self, X):\n",
    "        return self.capas[0].neuronas[0].sigmoide(X)\n",
    "\n",
    "    def resolverAND(self, X):\n",
    "        return self.capas[0].neuronas[1].sigmoide(X)\n",
    "\n",
    "    def resolverOR(self, X):\n",
    "        return self.capas[1].neuronas[0].sigmoide(X)\n",
    "\n",
    "    def forwardPropagation(self, X):\n",
    "        for index, capa in enumerate(self.capas):\n",
    "            X = capa.forwardPropagation(X)\n",
    "        return X\n",
    "\n",
    "RedNeuronal = RedNeuronal([2, 2, 1])\n",
    "RedNeuronal.cargarNOR()\n",
    "RedNeuronal.cargarAND()\n",
    "RedNeuronal.cargarOR()\n",
    "\n",
    "# X = np.zeros([1,2])\n",
    "# X[0, 0] = 1\n",
    "# X[0, 1] = 0.6\n",
    "# print(f\"X = {X}\")\n",
    "# print(RedNeuronal.forwardPropagation(X))\n"
   ]
  },
  {
   "cell_type": "markdown",
   "metadata": {},
   "source": [
    "### Tabla de verdad de XNOR"
   ]
  },
  {
   "cell_type": "code",
   "execution_count": 53,
   "metadata": {},
   "outputs": [
    {
     "name": "stdout",
     "output_type": "stream",
     "text": [
      "  X1    X2    AND    OR    NOR    XNOR\n",
      "----  ----  -----  ----  -----  ------\n",
      "   0     0      0     0      1       1\n",
      "   0     1      0     1      0       0\n",
      "   1     0      0     1      0       0\n",
      "   1     1      1     1      0       1\n"
     ]
    }
   ],
   "source": [
    "import math\n",
    "from tabulate import tabulate\n",
    "\n",
    "X1 = [0, 0, 1 , 1]\n",
    "X2 = [0, 1, 0 , 1]\n",
    "\n",
    "res = []\n",
    "\n",
    "for index, value in enumerate(X1):\n",
    "    X = np.zeros([1,2])\n",
    "    X[0, 0] = value\n",
    "    X[0, 1] = X2[index]\n",
    "    res.append([\n",
    "        X[0, 0],\n",
    "        X[0, 1],\n",
    "        RedNeuronal.resolverAND(X), \n",
    "        RedNeuronal.resolverOR(X), \n",
    "        RedNeuronal.resolverNOR(X),\n",
    "        RedNeuronal.forwardPropagation(X)[0][0]\n",
    "    ])\n",
    "\n",
    "print(tabulate(res, headers=[\"X1\", \"X2\", \"AND\", \"OR\", \"NOR\", \"XNOR\"]))"
   ]
  },
  {
   "cell_type": "markdown",
   "metadata": {},
   "source": [
    "### Ejercicio 1"
   ]
  },
  {
   "cell_type": "code",
   "execution_count": 54,
   "metadata": {},
   "outputs": [
    {
     "data": {
      "image/png": "[encoded data removed]",
      "text/plain": [
       "<Figure size 432x288 with 1 Axes>"
      ]
     },
     "metadata": {
      "needs_background": "light"
     },
     "output_type": "display_data"
    },
    {
     "data": {
      "image/png": "[encoded data removed]",
      "text/plain": [
       "<Figure size 432x288 with 1 Axes>"
      ]
     },
     "metadata": {
      "needs_background": "light"
     },
     "output_type": "display_data"
    }
   ],
   "source": [
    "datos = pd.read_csv(\"./data/datosPrueba.csv\")\n",
    "datos = datos.to_numpy()\n",
    "m,n = datos.shape\n",
    "X = datos[:,0:n-1]\n",
    "Y = datos[:,n-1:n]\n",
    "\n",
    "plt.plot(X[:,0],X[:,1],\"bo\")\n",
    "plt.xlabel(\"X1\")\n",
    "plt.ylabel(\"X2\")\n",
    "plt.grid()\n",
    "plt.title(\"Datos de prueba\")\n",
    "plt.show()\n",
    "\n",
    "X0 = []\n",
    "X1 = []\n",
    "\n",
    "for index, XA in enumerate(X):\n",
    "    XT = np.zeros([1,2])\n",
    "    XT[0, 0] = XA[0]\n",
    "    XT[0, 1] = XA[1]\n",
    "    if (RedNeuronal.forwardPropagation(XT) < 0.5):\n",
    "        X0.append(index)\n",
    "    else:\n",
    "        X1.append(index)\n",
    "\n",
    "plt.plot(X[X0,0],X[X0,1],\"bo\")\n",
    "plt.plot(X[X1,0],X[X1,1],\"ro\")\n",
    "plt.xlabel(\"X1\")\n",
    "plt.ylabel(\"X2\")\n",
    "plt.grid()\n",
    "plt.title(\"Regresión Logística\")\n",
    "plt.show()\n"
   ]
  }
 ],
 "metadata": {
  "kernelspec": {
   "display_name": "Python 3.9.10 ('venv': venv)",
   "language": "python",
   "name": "python3"
  },
  "language_info": {
   "codemirror_mode": {
    "name": "ipython",
    "version": 3
   },
   "file_extension": ".py",
   "mimetype": "text/x-python",
   "name": "python",
   "nbconvert_exporter": "python",
   "pygments_lexer": "ipython3",
   "version": "3.9.10"
  },
  "orig_nbformat": 4,
  "vscode": {
   "interpreter": {
    "hash": "5986db2612bb3eb0d5d8ded52e0e26d25fe8a644ecfcf214532787127487edcd"
   }
  }
 },
 "nbformat": 4,
 "nbformat_minor": 2
}
