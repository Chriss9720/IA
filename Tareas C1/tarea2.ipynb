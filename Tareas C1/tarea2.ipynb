{
 "cells": [
  {
   "cell_type": "markdown",
   "metadata": {},
   "source": [
    "18130122 Cielo Luz Elena Llamas Servin\n",
    "\n",
    "18130141 Cristyaquelin Dominguez Felix\n",
    "\n",
    "18130159 Yañez Gonzalez Christian Emmanuel"
   ]
  },
  {
   "cell_type": "markdown",
   "metadata": {},
   "source": [
    "Suponer un cañón situado en el origen de un sistema de coordenadas cartesiano. \n",
    "\n",
    "Se tiene 1 archivo de entrada inCanion.csv, el cual tiene la siguiente información: \n",
    "\n",
    "́anguloInicial velocidadInicial\n",
    "\n",
    "Se deberán realizar los cálculos necesarios y escribir los resultados en el archivo outCanion.csv, con el siguiente formato:\n",
    "\n",
    "alturaMáxima tiempoVuelo alcanceHorizontal\n",
    "\n",
    "NOTA: Recuerda que (πradianes=180), (g≈9.8)"
   ]
  },
  {
   "cell_type": "code",
   "execution_count": 163,
   "metadata": {},
   "outputs": [
    {
     "name": "stdout",
     "output_type": "stream",
     "text": [
      "inCanion.csv\n",
      "  anguloInicial    velocidadInicial    g\n",
      "---------------  ------------------  ---\n",
      "             37                  20  9.8\n",
      "outCanion.csv\n",
      "  alturaMáxima    tiempoVuelo    alcanceHorizontal\n",
      "--------------  -------------  -------------------\n",
      "          7.39           2.46                39.24\n"
     ]
    }
   ],
   "source": [
    "import pandas as pd\n",
    "import numpy as np\n",
    "from tabulate import tabulate\n",
    "import math\n",
    "\n",
    "datos = pd.read_csv(\"./data/inCanion.csv\")\n",
    "datos = datos.to_numpy()\n",
    "g = 9.8\n",
    "\n",
    "temp = [[d for d in datos[0]]]\n",
    "temp[0].append(g)\n",
    "\n",
    "print(\"inCanion.csv\")\n",
    "print(tabulate(temp, headers=\"anguloInicial,velocidadInicial,g\".split(\",\")))\n",
    "\n",
    "ang = datos[0][0]\n",
    "vo = datos[0][1]\n",
    "\n",
    "rad = math.radians(ang)\n",
    "rad2 = math.radians(ang*2)\n",
    "sin = math.sin(rad)\n",
    "sin2 = math.sin(rad2)\n",
    "\n",
    "altura = (math.pow(vo, 2) * math.pow(sin, 2)) / (2 * g)\n",
    "alcance = (math.pow(vo, 2) * sin2) / g\n",
    "tiempo = ((vo * sin) / g) * 2\n",
    "\n",
    "columns = ['alturaMáxima', 'tiempoVuelo', 'alcanceHorizontal']\n",
    "data = [\"{:.2f}\".format(altura), \"{:.2f}\".format(tiempo), \"{:.2f}\".format(alcance)]\n",
    "\n",
    "out = pd.DataFrame([data], columns=columns)\n",
    "out.to_csv('./data/outCanion.csv', index=False)\n",
    "\n",
    "out = pd.read_csv(\"./data/outCanion.csv\")\n",
    "out = out.to_numpy()\n",
    "print(\"outCanion.csv\")\n",
    "print(tabulate(out, headers=columns))\n"
   ]
  },
  {
   "cell_type": "markdown",
   "metadata": {},
   "source": [
    "Del ejemplo anterior, deberán dibujar una gráfica, donde se muestre la trayectoria del proyectil, recordando que el proyectil no penetra el suelo, que la altura inicial del cañón es 0 (H=0)"
   ]
  },
  {
   "cell_type": "code",
   "execution_count": 171,
   "metadata": {},
   "outputs": [
    {
     "data": {
      "image/png": "[encoded data removed]",
      "text/plain": [
       "<Figure size 432x288 with 1 Axes>"
      ]
     },
     "metadata": {
      "needs_background": "light"
     },
     "output_type": "display_data"
    }
   ],
   "source": [
    "import matplotlib.pyplot as plt\n",
    "import math\n",
    "import pandas as pd\n",
    "\n",
    "data_in = pd.read_csv(\"./data/inCanion.csv\")\n",
    "data_in = data_in.to_numpy()\n",
    "\n",
    "g = 9.8\n",
    "ang = datos[0][0]\n",
    "vo = datos[0][1]\n",
    "\n",
    "out = pd.read_csv(\"./data/outCanion.csv\")\n",
    "out = out.to_numpy()\n",
    "\n",
    "rad = math.radians(ang)\n",
    "sin = math.sin(rad)\n",
    "cos = math.cos(rad)\n",
    "\n",
    "x = []\n",
    "y = []\n",
    "\n",
    "h = 0\n",
    "vx = vo * cos\n",
    "vy = vo * sin\n",
    "tiempo = out[0][1]\n",
    "\n",
    "for t in np.arange(0, tiempo, .001):\n",
    "    x.append(vx * t)\n",
    "    y.append(h + vy * t - 1/2 * g * math.pow(t, 2))\n",
    "\n",
    "plt.title(\"Tarea 2\")\n",
    "plt.plot(x, y)\n",
    "plt.xlabel(\"Alcance\")\n",
    "plt.ylabel(\"Altura\")\n",
    "plt.grid()\n",
    "plt.show()\n"
   ]
  }
 ],
 "metadata": {
  "kernelspec": {
   "display_name": "Python 3 (ipykernel)",
   "language": "python",
   "name": "python3"
  },
  "language_info": {
   "codemirror_mode": {
    "name": "ipython",
    "version": 3
   },
   "file_extension": ".py",
   "mimetype": "text/x-python",
   "name": "python",
   "nbconvert_exporter": "python",
   "pygments_lexer": "ipython3",
   "version": "3.9.13"
  },
  "vscode": {
   "interpreter": {
    "hash": "700f4e983609b4a309d8cdb24642ead9ed43dcba28b2f06dc1758fd6fadf91c9"
   }
  }
 },
 "nbformat": 4,
 "nbformat_minor": 2
}
