{
 "cells": [
  {
   "cell_type": "markdown",
   "metadata": {},
   "source": [
    "18130122 Cielo Luz Elena Llamas Servin\n",
    "\n",
    "18130141 Cristyaquelin Dominguez Felix\n",
    "\n",
    "18130159 Yañez Gonzalez Christian Emmanuel"
   ]
  },
  {
   "cell_type": "markdown",
   "metadata": {},
   "source": [
    "Calcular la inversa de A"
   ]
  },
  {
   "cell_type": "code",
   "execution_count": 3,
   "metadata": {},
   "outputs": [
    {
     "name": "stdout",
     "output_type": "stream",
     "text": [
      "A = \n",
      "[[2 2]\n",
      " [4 6]]\n",
      "inv(A) = \n",
      "[[ 1.5 -0.5]\n",
      " [-1.   0.5]]\n"
     ]
    }
   ],
   "source": [
    "import numpy as np\n",
    "\n",
    "A = np.array([[2, 2], [4,6]])\n",
    "print(f\"A = \\n{A}\")\n",
    "\n",
    "B = np.linalg.inv(A)\n",
    "print(f\"inv(A) = \\n{B}\")"
   ]
  },
  {
   "cell_type": "markdown",
   "metadata": {},
   "source": [
    "Calcula AxB, y BxA"
   ]
  },
  {
   "cell_type": "code",
   "execution_count": 9,
   "metadata": {},
   "outputs": [
    {
     "name": "stdout",
     "output_type": "stream",
     "text": [
      "A = \n",
      "[[1 1]\n",
      " [0 0]]\n",
      "B = \n",
      "[[0 0]\n",
      " [2 0]]\n",
      "A * B = \n",
      "[[2 0]\n",
      " [0 0]]\n",
      "B * A = \n",
      "[[0 0]\n",
      " [2 2]]\n"
     ]
    }
   ],
   "source": [
    "import numpy as np\n",
    "\n",
    "A = np.array([[1, 1], [0, 0]])\n",
    "print(f\"A = \\n{A}\")\n",
    "\n",
    "B = np.array([[0, 0], [2, 0]])\n",
    "print(f\"B = \\n{B}\")\n",
    "\n",
    "AB = A.dot(B)\n",
    "print(f\"A * B = \\n{AB}\")\n",
    "BA = B.dot(A)\n",
    "print(f\"B * A = \\n{BA}\")"
   ]
  },
  {
   "cell_type": "markdown",
   "metadata": {},
   "source": [
    "Suponemos que A·C=B, Calcular C"
   ]
  },
  {
   "cell_type": "code",
   "execution_count": 10,
   "metadata": {},
   "outputs": [
    {
     "name": "stdout",
     "output_type": "stream",
     "text": [
      "A = \n",
      "[[1 3]\n",
      " [2 5]]\n",
      "B = \n",
      "[[0 1]\n",
      " [3 2]]\n",
      "C=\n",
      "[[ 9.  1.]\n",
      " [-3.  0.]]\n"
     ]
    }
   ],
   "source": [
    "\"\"\"\n",
    "C = B / A\n",
    "\"\"\"\n",
    "import numpy as np\n",
    "\n",
    "A = np.array([[1, 3], [2, 5]])\n",
    "print(f\"A = \\n{A}\")\n",
    "\n",
    "B = np.array([[0, 1], [3, 2]])\n",
    "print(f\"B = \\n{B}\")\n",
    "\n",
    "invA = np.linalg.inv(A)\n",
    "C = invA.dot(B)\n",
    "\n",
    "print('C=', C, sep='\\n')\n"
   ]
  }
 ],
 "metadata": {
  "kernelspec": {
   "display_name": "Python 3.9.13 64-bit",
   "language": "python",
   "name": "python3"
  },
  "language_info": {
   "codemirror_mode": {
    "name": "ipython",
    "version": 3
   },
   "file_extension": ".py",
   "mimetype": "text/x-python",
   "name": "python",
   "nbconvert_exporter": "python",
   "pygments_lexer": "ipython3",
   "version": "3.9.13"
  },
  "orig_nbformat": 4,
  "vscode": {
   "interpreter": {
    "hash": "700f4e983609b4a309d8cdb24642ead9ed43dcba28b2f06dc1758fd6fadf91c9"
   }
  }
 },
 "nbformat": 4,
 "nbformat_minor": 2
}
