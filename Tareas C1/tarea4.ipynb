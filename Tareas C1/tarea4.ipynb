{
 "cells": [
  {
   "cell_type": "markdown",
   "id": "aad317e8",
   "metadata": {},
   "source": [
    "18130122 Cielo Luz Elena Llamas Servin\n",
    "\n",
    "18130141 Cristyaquelin Dominguez Felix\n",
    "\n",
    "18130159 Yañez Gonzalez Christian Emmanuel"
   ]
  },
  {
   "cell_type": "code",
   "execution_count": 43,
   "id": "a3216e16",
   "metadata": {},
   "outputs": [
    {
     "name": "stdout",
     "output_type": "stream",
     "text": [
      "Error cuadratico medio: 64006873333.333336\n",
      "  index    A     Y    Y'    error    error^2\n",
      "-------  ---  ----  ----  -------  ---------\n",
      "      1    1  3100  3000     -100      10000\n",
      "      1    2  4500  4000     -500     250000\n",
      "      1    3  4400  5000      600     360000\n",
      "      1    4  5400  6000      600     360000\n",
      "      1    5  7500  7000     -500     250000\n",
      "      1    6  8100  8000     -100      10000\n"
     ]
    },
    {
     "data": {
      "text/plain": [
       "[<matplotlib.lines.Line2D at 0x1383399f940>]"
      ]
     },
     "execution_count": 43,
     "metadata": {},
     "output_type": "execute_result"
    },
    {
     "data": {
      "image/png": "[encoded data removed]",
      "text/plain": [
       "<Figure size 432x288 with 1 Axes>"
      ]
     },
     "metadata": {
      "needs_background": "light"
     },
     "output_type": "display_data"
    }
   ],
   "source": [
    "import pandas as pd\n",
    "import numpy as np\n",
    "import matplotlib.pyplot as plt\n",
    "from tabulate import tabulate\n",
    "\n",
    "Y = pd.read_csv(\"./data/datos2.csv\")\n",
    "Y = Y.to_numpy()\n",
    "\n",
    "datos = pd.read_csv(\"./data/datos1.csv\")\n",
    "datos = datos.to_numpy()\n",
    "\n",
    "datosx = pd.read_csv(\"./data/datos3.csv\")\n",
    "datosx = datosx.to_numpy()\n",
    "\n",
    "x = datosx\n",
    "A = datos\n",
    "\n",
    "X = np.linalg.inv(A.T.dot(A)).dot(A.T).dot(Y)\n",
    "\n",
    "y = ((2000)+(1000*x))\n",
    "err = (y-Y)\n",
    "errCuad = (err*err)\n",
    "mse = (np.square(err - errCuad)).mean()\n",
    "\n",
    "print(f\"Error cuadratico medio: {mse}\")\n",
    "\n",
    "result = []\n",
    "for index, val in enumerate(A):\n",
    "    result.append([val[0], val[1], Y[index], y[index], err[index], errCuad[index]])\n",
    "\n",
    "print(tabulate(result, headers=[\"index\",\"A\",\"Y\",\"Y'\", \"error\", \"error^2\"]))\n",
    "\n",
    "plt.plot(Y, A[:, 1], 'r-')\n",
    "plt.ylabel('salida sensor')\n",
    "plt.xlabel('nivel real')\n",
    "plt.title('Ecuacion Lineal')\n",
    "Salida = A.dot(X)\n",
    "plt.plot(Salida, A[:, 1], 'b-')\n"
   ]
  }
 ],
 "metadata": {
  "kernelspec": {
   "display_name": "Python 3.9.10 64-bit",
   "language": "python",
   "name": "python3"
  },
  "language_info": {
   "codemirror_mode": {
    "name": "ipython",
    "version": 3
   },
   "file_extension": ".py",
   "mimetype": "text/x-python",
   "name": "python",
   "nbconvert_exporter": "python",
   "pygments_lexer": "ipython3",
   "version": "3.9.10"
  },
  "vscode": {
   "interpreter": {
    "hash": "700f4e983609b4a309d8cdb24642ead9ed43dcba28b2f06dc1758fd6fadf91c9"
   }
  }
 },
 "nbformat": 4,
 "nbformat_minor": 5
}
