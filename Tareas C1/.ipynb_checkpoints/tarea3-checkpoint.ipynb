{
 "cells": [
  {
   "cell_type": "markdown",
   "metadata": {},
   "source": [
    "18130122 Cielo Luz Elena Llamas Servin\n",
    "\n",
    "18130141 Cristyaquelin Dominguez Felix\n",
    "\n",
    "18130159 Yañez Gonzalez Christian Emmanuel"
   ]
  },
  {
   "cell_type": "code",
   "execution_count": 2,
   "metadata": {},
   "outputs": [
    {
     "data": {
      "image/png": "[encoded data removed]",
      "text/plain": [
       "<Figure size 432x288 with 1 Axes>"
      ]
     },
     "metadata": {
      "needs_background": "light"
     },
     "output_type": "display_data"
    },
    {
     "data": {
      "image/png": "[encoded data removed]",
      "text/plain": [
       "<Figure size 432x288 with 1 Axes>"
      ]
     },
     "metadata": {
      "needs_background": "light"
     },
     "output_type": "display_data"
    }
   ],
   "source": [
    "import numpy as np\n",
    "import matplotlib.pyplot as plt\n",
    "\n",
    "def inicializarRandom(datos, k):\n",
    "    ren, col = datos.shape\n",
    "    min = np.min(datos, axis=0)\n",
    "    max = np.max(datos, axis=0)\n",
    "    centroides = np.random.random([k, col]) * (max - min) + min\n",
    "    return centroides\n",
    "\n",
    "def getDistancia(a, b):\n",
    "    return np.linalg.norm(a-b)\n",
    "\n",
    "def asignacion(datos, centroides):\n",
    "    numDatos, numCol = datos.shape\n",
    "    K, numCol = centroides.shape\n",
    "    distancias = np.zeros([numDatos, K])\n",
    "    for i in range(numDatos):\n",
    "        for j in range(K):\n",
    "            distancias[i, j] = getDistancia(datos[i,:], centroides[j,:])\n",
    "    indices = np.argmin(distancias, axis=1)\n",
    "    return indices\n",
    "\n",
    "datos = np.genfromtxt('./kmedias-1.csv')\n",
    "\n",
    "K = 3\n",
    "N, col = datos.shape\n",
    "\n",
    "centroides = inicializarRandom(datos, K)\n",
    "\n",
    "indices = asignacion(datos, centroides)\n",
    "\n",
    "colores = ['b', 'g', 'r', 'c', 'm', 'y', 'k', 'w']\n",
    "\n",
    "for i in range(K):\n",
    "    plt.plot(centroides[i, 0], centroides[i, 1], f\"{colores[i]}+\")\n",
    "for i in range(N):\n",
    "    plt.plot(datos[i, 0], datos[i, 1], f\"{colores[indices[i]]}*\")\n",
    "plt.show()\n",
    "\n",
    "def getIndice(indices, valor):\n",
    "    A = []\n",
    "    for index, value in enumerate(indices):\n",
    "        if (value == valor):\n",
    "            A.append(index)\n",
    "    return A\n",
    "\n",
    "def actualizarCentroides(datos, indices):\n",
    "    ret = []\n",
    "    list_indice = []\n",
    "    for value in indices:\n",
    "        if (value not in list_indice):\n",
    "            list_indice.append(value)\n",
    "    for index in list_indice:\n",
    "        lista_1 = getIndice(indices, index)\n",
    "        A = datos[lista_1, :]\n",
    "        a = np.mean(A, axis=0)\n",
    "        ret.append({'pos': a, 'color': index})\n",
    "    return ret\n",
    "\n",
    "centroides = actualizarCentroides(datos, indices)\n",
    "\n",
    "for i, v in enumerate(centroides):\n",
    "    plt.plot(v['pos'][0], v['pos'][1], f\"{colores[v['color']]}+\")\n",
    "\n",
    "for i in range(N):\n",
    "    plt.plot(datos[i, 0], datos[i, 1], f\"{colores[indices[i]]}.\")\n",
    "\n",
    "plt.show()"
   ]
  }
 ],
 "metadata": {
  "kernelspec": {
   "display_name": "Python 3 (ipykernel)",
   "language": "python",
   "name": "python3"
  },
  "language_info": {
   "codemirror_mode": {
    "name": "ipython",
    "version": 3
   },
   "file_extension": ".py",
   "mimetype": "text/x-python",
   "name": "python",
   "nbconvert_exporter": "python",
   "pygments_lexer": "ipython3",
   "version": "3.9.13"
  },
  "vscode": {
   "interpreter": {
    "hash": "f0c57bc076e9217fce7fc7479a9e5a03ae5ebbc762fd5e8e7e34411aa91b3ee6"
   }
  }
 },
 "nbformat": 4,
 "nbformat_minor": 2
}
