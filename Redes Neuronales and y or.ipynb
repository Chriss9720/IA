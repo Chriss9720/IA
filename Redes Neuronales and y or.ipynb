{
 "cells": [
  {
   "cell_type": "markdown",
   "metadata": {},
   "source": [
    "# Red Neuronal Sigmoide"
   ]
  },
  {
   "cell_type": "markdown",
   "metadata": {},
   "source": [
    "Funcion AND"
   ]
  },
  {
   "cell_type": "code",
   "execution_count": 3,
   "metadata": {},
   "outputs": [
    {
     "name": "stdout",
     "output_type": "stream",
     "text": [
      "Sigmoide(-10) = 4.5397868702434395e-05\n"
     ]
    }
   ],
   "source": [
    "import numpy as np\n",
    "\n",
    "\n",
    "def sigmoide(t): return 1/(1+np.exp(-t))\n",
    "\n",
    "\n",
    "x_0 = 1\n",
    "x_1 = 1\n",
    "x_2 = 0\n",
    "\n",
    "b = -30\n",
    "w_1 = 20\n",
    "w_2 = 20\n",
    "\n",
    "t = b * x_0 + w_1 * x_1 + w_2 * x_2\n",
    "\n",
    "print(f\"Sigmoide({t}) = {sigmoide(t)}\")\n"
   ]
  },
  {
   "cell_type": "markdown",
   "metadata": {},
   "source": [
    "Funcion OR"
   ]
  },
  {
   "cell_type": "code",
   "execution_count": 2,
   "metadata": {},
   "outputs": [
    {
     "name": "stdout",
     "output_type": "stream",
     "text": [
      "Sigmoide(-10) = 4.5397868702434395e-05\n"
     ]
    }
   ],
   "source": [
    "import numpy as np\n",
    "\n",
    "\n",
    "def sigmoide(t): return 1/(1+np.exp(-t))\n",
    "\n",
    "\n",
    "x_0 = 1\n",
    "x_1 = 0\n",
    "x_2 = 0\n",
    "\n",
    "b = -10\n",
    "w_1 = 20\n",
    "w_2 = 20\n",
    "\n",
    "t = b * x_0 + w_1 * x_1 + w_2 * x_2\n",
    "\n",
    "print(f\"Sigmoide({t}) = {sigmoide(t)}\")"
   ]
  },
  {
   "cell_type": "markdown",
   "metadata": {},
   "source": [
    "Funcion NOR"
   ]
  },
  {
   "cell_type": "code",
   "execution_count": 7,
   "metadata": {},
   "outputs": [
    {
     "name": "stdout",
     "output_type": "stream",
     "text": [
      "Sigmoide(-30) = 9.357622968839299e-14\n"
     ]
    }
   ],
   "source": [
    "import numpy as np\n",
    "\n",
    "\n",
    "def sigmoide(t): return 1/(1+np.exp(-t))\n",
    "\n",
    "\n",
    "x_0 = 1\n",
    "x_1 = 1\n",
    "x_2 = 1\n",
    "\n",
    "b = 10\n",
    "w_1 = -20\n",
    "w_2 = -20\n",
    "\n",
    "t = b * x_0 + w_1 * x_1 + w_2 * x_2\n",
    "\n",
    "print(f\"Sigmoide({t}) = {sigmoide(t)}\")"
   ]
  }
 ],
 "metadata": {
  "kernelspec": {
   "display_name": "Python 3.9.10 ('venv': venv)",
   "language": "python",
   "name": "python3"
  },
  "language_info": {
   "codemirror_mode": {
    "name": "ipython",
    "version": 3
   },
   "file_extension": ".py",
   "mimetype": "text/x-python",
   "name": "python",
   "nbconvert_exporter": "python",
   "pygments_lexer": "ipython3",
   "version": "3.9.10"
  },
  "orig_nbformat": 4,
  "vscode": {
   "interpreter": {
    "hash": "5986db2612bb3eb0d5d8ded52e0e26d25fe8a644ecfcf214532787127487edcd"
   }
  }
 },
 "nbformat": 4,
 "nbformat_minor": 2
}
